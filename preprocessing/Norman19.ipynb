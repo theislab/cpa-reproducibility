{
 "cells": [
  {
   "cell_type": "code",
   "execution_count": 1,
   "metadata": {},
   "outputs": [
    {
     "name": "stdout",
     "output_type": "stream",
     "text": [
      "scanpy==1.7.1 anndata==0.7.5 umap==0.5.1 numpy==1.19.2 scipy==1.6.1 pandas==1.2.3 scikit-learn==0.24.1 statsmodels==0.12.2 python-igraph==0.8.3 leidenalg==0.8.3\n"
     ]
    }
   ],
   "source": [
    "import os\n",
    "import numpy as np\n",
    "import scanpy as sc\n",
    "import anndata as ad\n",
    "import pandas as pd\n",
    "import re\n",
    "import seaborn as sns\n",
    "import matplotlib.pyplot as plt\n",
    "from sklearn.model_selection import train_test_split\n",
    "plt.rcParams['figure.figsize']=(5, 5)\n",
    "sc.settings.verbosity = 3\n",
    "sc.logging.print_header()\n",
    "os.chdir('./../')\n",
    "\n",
    "\n",
    "%load_ext autoreload\n",
    "%autoreload 2 "
   ]
  },
  {
   "cell_type": "code",
   "execution_count": 33,
   "metadata": {},
   "outputs": [],
   "source": [
    "sc.set_figure_params(dpi=100)"
   ]
  },
  {
   "cell_type": "markdown",
   "metadata": {},
   "source": [
    "## loading the raw data"
   ]
  },
  {
   "cell_type": "code",
   "execution_count": 36,
   "metadata": {},
   "outputs": [],
   "source": [
    "import os"
   ]
  },
  {
   "cell_type": "code",
   "execution_count": 37,
   "metadata": {},
   "outputs": [
    {
     "data": {
      "text/plain": [
       "'/home/mohammad'"
      ]
     },
     "execution_count": 37,
     "metadata": {},
     "output_type": "execute_result"
    }
   ],
   "source": [
    "os.getcwd()"
   ]
  },
  {
   "cell_type": "code",
   "execution_count": 38,
   "metadata": {},
   "outputs": [],
   "source": [
    "adata = sc.read(\"./Desktop/test_AdvAE/datasets/Norman2019_raw.h5ad\")"
   ]
  },
  {
   "cell_type": "code",
   "execution_count": 39,
   "metadata": {},
   "outputs": [],
   "source": [
    "needed_obs = adata.obs[[\"guide_identity\",\"read_count\", \"UMI_count\",\"gemgroup\",\"good_coverage\",\"number_of_cells\",\"guide_ids\"]].copy()"
   ]
  },
  {
   "cell_type": "code",
   "execution_count": 40,
   "metadata": {},
   "outputs": [],
   "source": [
    "adata_new = sc.AnnData(adata.X.copy(), obs=needed_obs, var=adata.var.copy())"
   ]
  },
  {
   "cell_type": "code",
   "execution_count": 41,
   "metadata": {},
   "outputs": [
    {
     "data": {
      "text/plain": [
       "AnnData object with n_obs × n_vars = 111445 × 33694\n",
       "    obs: 'guide_identity', 'read_count', 'UMI_count', 'gemgroup', 'good_coverage', 'number_of_cells', 'guide_ids'\n",
       "    var: 'gene_symbols'"
      ]
     },
     "execution_count": 41,
     "metadata": {},
     "output_type": "execute_result"
    }
   ],
   "source": [
    "adata_new"
   ]
  },
  {
   "cell_type": "code",
   "execution_count": 42,
   "metadata": {},
   "outputs": [
    {
     "data": {
      "text/html": [
       "<div>\n",
       "<style scoped>\n",
       "    .dataframe tbody tr th:only-of-type {\n",
       "        vertical-align: middle;\n",
       "    }\n",
       "\n",
       "    .dataframe tbody tr th {\n",
       "        vertical-align: top;\n",
       "    }\n",
       "\n",
       "    .dataframe thead th {\n",
       "        text-align: right;\n",
       "    }\n",
       "</style>\n",
       "<table border=\"1\" class=\"dataframe\">\n",
       "  <thead>\n",
       "    <tr style=\"text-align: right;\">\n",
       "      <th></th>\n",
       "      <th>guide_identity</th>\n",
       "      <th>read_count</th>\n",
       "      <th>UMI_count</th>\n",
       "      <th>gemgroup</th>\n",
       "      <th>good_coverage</th>\n",
       "      <th>number_of_cells</th>\n",
       "      <th>guide_ids</th>\n",
       "    </tr>\n",
       "    <tr>\n",
       "      <th>index</th>\n",
       "      <th></th>\n",
       "      <th></th>\n",
       "      <th></th>\n",
       "      <th></th>\n",
       "      <th></th>\n",
       "      <th></th>\n",
       "      <th></th>\n",
       "    </tr>\n",
       "  </thead>\n",
       "  <tbody>\n",
       "    <tr>\n",
       "      <th>AAACCTGAGAAGAAGC-1</th>\n",
       "      <td>NegCtrl0_NegCtrl0__NegCtrl0_NegCtrl0</td>\n",
       "      <td>1252</td>\n",
       "      <td>67</td>\n",
       "      <td>1</td>\n",
       "      <td>True</td>\n",
       "      <td>2</td>\n",
       "      <td></td>\n",
       "    </tr>\n",
       "    <tr>\n",
       "      <th>AAACCTGAGGCATGTG-1</th>\n",
       "      <td>TSC22D1_NegCtrl0__TSC22D1_NegCtrl0</td>\n",
       "      <td>2151</td>\n",
       "      <td>104</td>\n",
       "      <td>1</td>\n",
       "      <td>True</td>\n",
       "      <td>1</td>\n",
       "      <td>TSC22D1</td>\n",
       "    </tr>\n",
       "    <tr>\n",
       "      <th>AAACCTGAGGCCCTTG-1</th>\n",
       "      <td>KLF1_MAP2K6__KLF1_MAP2K6</td>\n",
       "      <td>1037</td>\n",
       "      <td>59</td>\n",
       "      <td>1</td>\n",
       "      <td>True</td>\n",
       "      <td>1</td>\n",
       "      <td>KLF1,MAP2K6</td>\n",
       "    </tr>\n",
       "    <tr>\n",
       "      <th>AAACCTGCACGAAGCA-1</th>\n",
       "      <td>NegCtrl10_NegCtrl0__NegCtrl10_NegCtrl0</td>\n",
       "      <td>958</td>\n",
       "      <td>39</td>\n",
       "      <td>1</td>\n",
       "      <td>True</td>\n",
       "      <td>1</td>\n",
       "      <td></td>\n",
       "    </tr>\n",
       "    <tr>\n",
       "      <th>AAACCTGCAGACGTAG-1</th>\n",
       "      <td>CEBPE_RUNX1T1__CEBPE_RUNX1T1</td>\n",
       "      <td>244</td>\n",
       "      <td>14</td>\n",
       "      <td>1</td>\n",
       "      <td>True</td>\n",
       "      <td>1</td>\n",
       "      <td>CEBPE,RUNX1T1</td>\n",
       "    </tr>\n",
       "    <tr>\n",
       "      <th>...</th>\n",
       "      <td>...</td>\n",
       "      <td>...</td>\n",
       "      <td>...</td>\n",
       "      <td>...</td>\n",
       "      <td>...</td>\n",
       "      <td>...</td>\n",
       "      <td>...</td>\n",
       "    </tr>\n",
       "    <tr>\n",
       "      <th>TTTGTCATCAGTACGT-8</th>\n",
       "      <td>FOXA3_NegCtrl0__FOXA3_NegCtrl0</td>\n",
       "      <td>2068</td>\n",
       "      <td>95</td>\n",
       "      <td>8</td>\n",
       "      <td>True</td>\n",
       "      <td>1</td>\n",
       "      <td>FOXA3</td>\n",
       "    </tr>\n",
       "    <tr>\n",
       "      <th>TTTGTCATCCACTCCA-8</th>\n",
       "      <td>CELF2_NegCtrl0__CELF2_NegCtrl0</td>\n",
       "      <td>829</td>\n",
       "      <td>33</td>\n",
       "      <td>8</td>\n",
       "      <td>True</td>\n",
       "      <td>1</td>\n",
       "      <td>CELF2</td>\n",
       "    </tr>\n",
       "    <tr>\n",
       "      <th>TTTGTCATCCCAACGG-8</th>\n",
       "      <td>BCORL1_NegCtrl0__BCORL1_NegCtrl0</td>\n",
       "      <td>136</td>\n",
       "      <td>9</td>\n",
       "      <td>8</td>\n",
       "      <td>True</td>\n",
       "      <td>1</td>\n",
       "      <td>BCORL1</td>\n",
       "    </tr>\n",
       "    <tr>\n",
       "      <th>TTTGTCATCCTCCTAG-8</th>\n",
       "      <td>ZBTB10_PTPN12__ZBTB10_PTPN12</td>\n",
       "      <td>1254</td>\n",
       "      <td>59</td>\n",
       "      <td>8</td>\n",
       "      <td>True</td>\n",
       "      <td>3</td>\n",
       "      <td>PTPN12,ZBTB10</td>\n",
       "    </tr>\n",
       "    <tr>\n",
       "      <th>TTTGTCATCTGGCGAC-8</th>\n",
       "      <td>MAP4K3_NegCtrl0__MAP4K3_NegCtrl0</td>\n",
       "      <td>1226</td>\n",
       "      <td>59</td>\n",
       "      <td>8</td>\n",
       "      <td>True</td>\n",
       "      <td>1</td>\n",
       "      <td>MAP4K3</td>\n",
       "    </tr>\n",
       "  </tbody>\n",
       "</table>\n",
       "<p>111445 rows × 7 columns</p>\n",
       "</div>"
      ],
      "text/plain": [
       "                                            guide_identity  read_count  \\\n",
       "index                                                                    \n",
       "AAACCTGAGAAGAAGC-1    NegCtrl0_NegCtrl0__NegCtrl0_NegCtrl0        1252   \n",
       "AAACCTGAGGCATGTG-1      TSC22D1_NegCtrl0__TSC22D1_NegCtrl0        2151   \n",
       "AAACCTGAGGCCCTTG-1                KLF1_MAP2K6__KLF1_MAP2K6        1037   \n",
       "AAACCTGCACGAAGCA-1  NegCtrl10_NegCtrl0__NegCtrl10_NegCtrl0         958   \n",
       "AAACCTGCAGACGTAG-1            CEBPE_RUNX1T1__CEBPE_RUNX1T1         244   \n",
       "...                                                    ...         ...   \n",
       "TTTGTCATCAGTACGT-8          FOXA3_NegCtrl0__FOXA3_NegCtrl0        2068   \n",
       "TTTGTCATCCACTCCA-8          CELF2_NegCtrl0__CELF2_NegCtrl0         829   \n",
       "TTTGTCATCCCAACGG-8        BCORL1_NegCtrl0__BCORL1_NegCtrl0         136   \n",
       "TTTGTCATCCTCCTAG-8            ZBTB10_PTPN12__ZBTB10_PTPN12        1254   \n",
       "TTTGTCATCTGGCGAC-8        MAP4K3_NegCtrl0__MAP4K3_NegCtrl0        1226   \n",
       "\n",
       "                    UMI_count  gemgroup  good_coverage  number_of_cells  \\\n",
       "index                                                                     \n",
       "AAACCTGAGAAGAAGC-1         67         1           True                2   \n",
       "AAACCTGAGGCATGTG-1        104         1           True                1   \n",
       "AAACCTGAGGCCCTTG-1         59         1           True                1   \n",
       "AAACCTGCACGAAGCA-1         39         1           True                1   \n",
       "AAACCTGCAGACGTAG-1         14         1           True                1   \n",
       "...                       ...       ...            ...              ...   \n",
       "TTTGTCATCAGTACGT-8         95         8           True                1   \n",
       "TTTGTCATCCACTCCA-8         33         8           True                1   \n",
       "TTTGTCATCCCAACGG-8          9         8           True                1   \n",
       "TTTGTCATCCTCCTAG-8         59         8           True                3   \n",
       "TTTGTCATCTGGCGAC-8         59         8           True                1   \n",
       "\n",
       "                        guide_ids  \n",
       "index                              \n",
       "AAACCTGAGAAGAAGC-1                 \n",
       "AAACCTGAGGCATGTG-1        TSC22D1  \n",
       "AAACCTGAGGCCCTTG-1    KLF1,MAP2K6  \n",
       "AAACCTGCACGAAGCA-1                 \n",
       "AAACCTGCAGACGTAG-1  CEBPE,RUNX1T1  \n",
       "...                           ...  \n",
       "TTTGTCATCAGTACGT-8          FOXA3  \n",
       "TTTGTCATCCACTCCA-8          CELF2  \n",
       "TTTGTCATCCCAACGG-8         BCORL1  \n",
       "TTTGTCATCCTCCTAG-8  PTPN12,ZBTB10  \n",
       "TTTGTCATCTGGCGAC-8         MAP4K3  \n",
       "\n",
       "[111445 rows x 7 columns]"
      ]
     },
     "execution_count": 42,
     "metadata": {},
     "output_type": "execute_result"
    }
   ],
   "source": [
    "adata_new.obs"
   ]
  },
  {
   "cell_type": "code",
   "execution_count": 43,
   "metadata": {},
   "outputs": [],
   "source": [
    "#check all ctrl guides"
   ]
  },
  {
   "cell_type": "code",
   "execution_count": 44,
   "metadata": {},
   "outputs": [],
   "source": [
    "list_control = []\n",
    "for i in np.unique(adata_new.obs[\"guide_identity\"]):\n",
    "   m = re.match(r\"NegCtrl(.*)_NegCtrl(.*)+NegCtrl(.*)_NegCtrl(.*)\", i)\n",
    "   if m :\n",
    "    list_control.append(m.group())"
   ]
  },
  {
   "cell_type": "markdown",
   "metadata": {},
   "source": [
    "remove \"NegCtrl1_NegCtrl0__NegCtrl1_NegCtrl0\" suggested by authors"
   ]
  },
  {
   "cell_type": "code",
   "execution_count": 45,
   "metadata": {},
   "outputs": [],
   "source": [
    "adata_new = adata_new[adata_new.obs[\"guide_identity\"] != \"NegCtrl1_NegCtrl0__NegCtrl1_NegCtrl0\"] "
   ]
  },
  {
   "cell_type": "code",
   "execution_count": 46,
   "metadata": {},
   "outputs": [
    {
     "data": {
      "text/plain": [
       "View of AnnData object with n_obs × n_vars = 108497 × 33694\n",
       "    obs: 'guide_identity', 'read_count', 'UMI_count', 'gemgroup', 'good_coverage', 'number_of_cells', 'guide_ids'\n",
       "    var: 'gene_symbols'"
      ]
     },
     "execution_count": 46,
     "metadata": {},
     "output_type": "execute_result"
    }
   ],
   "source": [
    "adata_new"
   ]
  },
  {
   "cell_type": "markdown",
   "metadata": {},
   "source": [
    "merge all controls "
   ]
  },
  {
   "cell_type": "code",
   "execution_count": 47,
   "metadata": {},
   "outputs": [
    {
     "name": "stderr",
     "output_type": "stream",
     "text": [
      "Trying to set attribute `.obs` of view, copying.\n"
     ]
    }
   ],
   "source": [
    "adata_new.obs[\"guide_merged\"] = adata_new.obs[\"guide_identity\"]"
   ]
  },
  {
   "cell_type": "code",
   "execution_count": 48,
   "metadata": {},
   "outputs": [],
   "source": [
    "for i in np.unique(adata_new.obs[\"guide_merged\"]):\n",
    "   m = re.match(r\"NegCtrl(.*)_NegCtrl(.*)+NegCtrl(.*)_NegCtrl(.*)\", i)\n",
    "   if m :\n",
    "        adata_new.obs[\"guide_merged\"].replace(i,\"ctrl\",inplace=True)"
   ]
  },
  {
   "cell_type": "markdown",
   "metadata": {},
   "source": [
    "relabeling"
   ]
  },
  {
   "cell_type": "code",
   "execution_count": 49,
   "metadata": {},
   "outputs": [
    {
     "name": "stdout",
     "output_type": "stream",
     "text": [
      "old: HOXC13_NegCtrl0__HOXC13_NegCtrl0_2 new: HOXC13+ctrl\n",
      "old: TGFBR2_IGDCC3__TGFBR2_IGDCC3_2 new: TGFBR2+IGDCC3\n",
      "old: ZBTB10_NegCtrl0__ZBTB10_NegCtrl0_2 new: ZBTB10+ctrl\n"
     ]
    }
   ],
   "source": [
    "old_pool = []\n",
    "for i in np.unique(adata_new.obs[\"guide_merged\"]):\n",
    "    if i == \"ctrl\":\n",
    "        old_pool.append(i)\n",
    "        continue\n",
    "    split = i.split(\"__\")[1]\n",
    "    split = split.split(\"_\")\n",
    "    for j, string in enumerate(split):\n",
    "        if \"NegCtrl\" in split[j]:\n",
    "            split[j] = \"ctrl\"\n",
    "    if len(split) == 1:\n",
    "        if split[0] in old_pool:\n",
    "            print(\"old:\",i, \"new:\",split[0])\n",
    "        adata_new.obs[\"guide_merged\"].replace(i,split[0],inplace=True)\n",
    "        old_pool.append(split[0])\n",
    "    else:\n",
    "        if f\"{split[0]}+{split[1]}\" in old_pool:\n",
    "            print(\"old:\",i, \"new:\",f\"{split[0]}+{split[1]}\")\n",
    "        adata_new.obs[\"guide_merged\"].replace(i, f\"{split[0]}+{split[1]}\",inplace=True)\n",
    "        old_pool.append(f\"{split[0]}+{split[1]}\")"
   ]
  },
  {
   "cell_type": "code",
   "execution_count": 50,
   "metadata": {},
   "outputs": [
    {
     "data": {
      "text/plain": [
       "index\n",
       "AAACCTGAGAAGAAGC-1             ctrl\n",
       "AAACCTGAGGCATGTG-1     TSC22D1+ctrl\n",
       "AAACCTGAGGCCCTTG-1      KLF1+MAP2K6\n",
       "AAACCTGCACGAAGCA-1             ctrl\n",
       "AAACCTGCAGACGTAG-1    CEBPE+RUNX1T1\n",
       "                          ...      \n",
       "TTTGTCATCAGTACGT-8       FOXA3+ctrl\n",
       "TTTGTCATCCACTCCA-8       CELF2+ctrl\n",
       "TTTGTCATCCCAACGG-8      BCORL1+ctrl\n",
       "TTTGTCATCCTCCTAG-8    ZBTB10+PTPN12\n",
       "TTTGTCATCTGGCGAC-8      MAP4K3+ctrl\n",
       "Name: guide_merged, Length: 108497, dtype: category\n",
       "Categories (284, object): ['AHR+FEV', 'AHR+KLF1', 'AHR+ctrl', 'ARID1A+ctrl', ..., 'ZC3HAV1+HOXC13', 'ZC3HAV1+ctrl', 'ZNF318+FOXL2', 'ZNF318+ctrl']"
      ]
     },
     "execution_count": 50,
     "metadata": {},
     "output_type": "execute_result"
    }
   ],
   "source": [
    "adata_new.obs[\"guide_merged\"]"
   ]
  },
  {
   "cell_type": "markdown",
   "metadata": {},
   "source": [
    "# preprocessing "
   ]
  },
  {
   "cell_type": "markdown",
   "metadata": {},
   "source": [
    "Keep the count data in a counts layer"
   ]
  },
  {
   "cell_type": "code",
   "execution_count": 51,
   "metadata": {},
   "outputs": [],
   "source": [
    "adata_new.layers[\"counts\"] = adata_new.X.copy()"
   ]
  },
  {
   "cell_type": "markdown",
   "metadata": {},
   "source": [
    "Normalization and HVG selection"
   ]
  },
  {
   "cell_type": "code",
   "execution_count": 52,
   "metadata": {},
   "outputs": [
    {
     "name": "stderr",
     "output_type": "stream",
     "text": [
      "normalizing counts per cell\n",
      "    finished (0:00:01)\n",
      "If you pass `n_top_genes`, all cutoffs are ignored.\n",
      "extracting highly variable genes\n",
      "    finished (0:00:05)\n",
      "--> added\n",
      "    'highly_variable', boolean vector (adata.var)\n",
      "    'means', float vector (adata.var)\n",
      "    'dispersions', float vector (adata.var)\n",
      "    'dispersions_norm', float vector (adata.var)\n"
     ]
    }
   ],
   "source": [
    "sc.pp.normalize_total(adata_new)\n",
    "sc.pp.log1p(adata_new)\n",
    "sc.pp.highly_variable_genes(adata_new,n_top_genes=5000, subset=True)"
   ]
  },
  {
   "cell_type": "code",
   "execution_count": 53,
   "metadata": {},
   "outputs": [
    {
     "data": {
      "text/plain": [
       "AnnData object with n_obs × n_vars = 108497 × 5000\n",
       "    obs: 'guide_identity', 'read_count', 'UMI_count', 'gemgroup', 'good_coverage', 'number_of_cells', 'guide_ids', 'guide_merged'\n",
       "    var: 'gene_symbols', 'highly_variable', 'means', 'dispersions', 'dispersions_norm'\n",
       "    uns: 'log1p', 'hvg'\n",
       "    layers: 'counts'"
      ]
     },
     "execution_count": 53,
     "metadata": {},
     "output_type": "execute_result"
    }
   ],
   "source": [
    "adata_new"
   ]
  },
  {
   "cell_type": "markdown",
   "metadata": {},
   "source": [
    "# Prepare for the model"
   ]
  },
  {
   "cell_type": "code",
   "execution_count": 78,
   "metadata": {},
   "outputs": [],
   "source": [
    "adata_new.obs['dose_val'] = 'nan'"
   ]
  },
  {
   "cell_type": "code",
   "execution_count": 79,
   "metadata": {},
   "outputs": [],
   "source": [
    "adata_new.obs['dose_val'].loc[\n",
    "    adata_new.obs['guide_merged']==\"ctrl\"\n",
    "] = '1'\n",
    "\n",
    "adata_new.obs['dose_val'].loc[\n",
    "    adata_new.obs['guide_merged']!=\"ctrl\"\n",
    "] = \"1+1\""
   ]
  },
  {
   "cell_type": "code",
   "execution_count": 82,
   "metadata": {},
   "outputs": [],
   "source": [
    "adata_new.obs[\"condition\"] = adata_new.obs[\"guide_merged\"]\n",
    "adata_new.obs['cell_type'] = 'A549'\n",
    "adata_new.obs['control'] = [1 if x == 'ctrl' else 0 for x in adata_new.obs.condition.values]"
   ]
  },
  {
   "cell_type": "code",
   "execution_count": 87,
   "metadata": {},
   "outputs": [],
   "source": [
    "adata_new.obs['drug_dose_name'] = adata_new.obs.condition.astype(str) + '_' + adata_new.obs.dose_val.astype(str)"
   ]
  },
  {
   "cell_type": "code",
   "execution_count": 88,
   "metadata": {},
   "outputs": [],
   "source": [
    "adata_new.obs['cov_drug_dose_name'] = adata_new.obs.cell_type.astype(str) + '_' + adata_new.obs.drug_dose_name.astype(str)"
   ]
  },
  {
   "cell_type": "markdown",
   "metadata": {},
   "source": [
    "DE test"
   ]
  },
  {
   "cell_type": "code",
   "execution_count": 90,
   "metadata": {},
   "outputs": [
    {
     "data": {
      "text/plain": [
       "'/home/mohammad'"
      ]
     },
     "execution_count": 90,
     "metadata": {},
     "output_type": "execute_result"
    }
   ],
   "source": [
    "os.getcwd()"
   ]
  },
  {
   "cell_type": "code",
   "execution_count": 91,
   "metadata": {},
   "outputs": [],
   "source": [
    "os.chdir('./Desktop/test_AdvAE/')\n"
   ]
  },
  {
   "cell_type": "code",
   "execution_count": 92,
   "metadata": {},
   "outputs": [],
   "source": [
    "from cpa.helper import rank_genes_groups_by_cov"
   ]
  },
  {
   "cell_type": "code",
   "execution_count": 94,
   "metadata": {},
   "outputs": [
    {
     "name": "stderr",
     "output_type": "stream",
     "text": [
      "WARNING: Default of the method has been changed to 't-test' from 't-test_overestim_var'\n",
      "ranking genes\n",
      "Trying to set attribute `.obs` of view, copying.\n"
     ]
    },
    {
     "name": "stdout",
     "output_type": "stream",
     "text": [
      "A549\n"
     ]
    },
    {
     "name": "stderr",
     "output_type": "stream",
     "text": [
      "... storing 'split' as categorical\n",
      "Trying to set attribute `.obs` of view, copying.\n",
      "... storing 'dose_val' as categorical\n",
      "Trying to set attribute `.obs` of view, copying.\n",
      "... storing 'cell_type' as categorical\n",
      "Trying to set attribute `.obs` of view, copying.\n",
      "... storing 'drug_dose_name' as categorical\n",
      "Trying to set attribute `.obs` of view, copying.\n",
      "... storing 'cov_drug_dose_name' as categorical\n",
      "    finished: added to `.uns['rank_genes_groups']`\n",
      "    'names', sorted np.recarray to be indexed by group ids\n",
      "    'scores', sorted np.recarray to be indexed by group ids\n",
      "    'logfoldchanges', sorted np.recarray to be indexed by group ids\n",
      "    'pvals', sorted np.recarray to be indexed by group ids\n",
      "    'pvals_adj', sorted np.recarray to be indexed by group ids (0:00:02)\n"
     ]
    }
   ],
   "source": [
    "rank_genes_groups_by_cov(adata_new, groupby='cov_drug_dose_name', covariate='cell_type', control_group='ctrl_1', n_genes=20)"
   ]
  },
  {
   "cell_type": "markdown",
   "metadata": {},
   "source": [
    "saving to new object"
   ]
  },
  {
   "cell_type": "code",
   "execution_count": 126,
   "metadata": {},
   "outputs": [],
   "source": [
    "to_pick = adata_new.obs[[\"cov_drug_dose_name\",\"dose_val\",\"control\",\"condition\",\"split\",\"guide_identity\",\"drug_dose_name\",\"cell_type\"]]"
   ]
  },
  {
   "cell_type": "code",
   "execution_count": 127,
   "metadata": {},
   "outputs": [],
   "source": [
    "adata_new_small = sc.AnnData(adata_new.X, obs=to_pick,\n",
    "                             var=adata_new.var, uns=adata_new.uns)"
   ]
  },
  {
   "cell_type": "code",
   "execution_count": 132,
   "metadata": {},
   "outputs": [],
   "source": [
    "adata_new_small.layers = adata_new.layers"
   ]
  },
  {
   "cell_type": "markdown",
   "metadata": {},
   "source": [
    "# splits"
   ]
  },
  {
   "cell_type": "markdown",
   "metadata": {},
   "source": [
    "visualization split "
   ]
  },
  {
   "cell_type": "code",
   "execution_count": 311,
   "metadata": {},
   "outputs": [
    {
     "name": "stderr",
     "output_type": "stream",
     "text": [
      "/home/mohammad/anaconda3/envs/scvi-env/lib/python3.7/site-packages/pandas/core/indexing.py:670: SettingWithCopyWarning: \n",
      "A value is trying to be set on a copy of a slice from a DataFrame\n",
      "\n",
      "See the caveats in the documentation: https://pandas.pydata.org/pandas-docs/stable/user_guide/indexing.html#returning-a-view-versus-a-copy\n",
      "  iloc._setitem_with_indexer(indexer, value)\n"
     ]
    },
    {
     "data": {
      "text/plain": [
       "split\n",
       "ood          2\n",
       "test     10848\n",
       "train    97647\n",
       "dtype: int64"
      ]
     },
     "execution_count": 311,
     "metadata": {},
     "output_type": "execute_result"
    }
   ],
   "source": [
    "ood_set = []\n",
    "adata_new_small.obs['split'] = 'nan'\n",
    "adata_idx = adata_new_small.obs_names\n",
    "adata_idx_train, adata_idx_test = train_test_split(adata_idx, test_size=0.1, random_state=42)\n",
    "adata_idx_test, adata_idx_ood = train_test_split(adata_idx_test, test_size=0.0001, random_state=42)\n",
    "adata_idx = adata_new_small.obs_names[adata_new_small.obs.split!='ood']\n",
    "adata_new_small.obs['split'].loc[adata_idx_train] = 'train'\n",
    "adata_new_small.obs['split'].loc[adata_idx_test] = 'test'\n",
    "adata_new_small.obs['split'].loc[adata_idx_ood] = 'ood'\n",
    "adata_new_small.obs.groupby('split').size()"
   ]
  },
  {
   "cell_type": "markdown",
   "metadata": {},
   "source": [
    "First ood set"
   ]
  },
  {
   "cell_type": "code",
   "execution_count": 270,
   "metadata": {},
   "outputs": [
    {
     "data": {
      "text/plain": [
       "split1\n",
       "ood       1884\n",
       "test     21323\n",
       "train    85290\n",
       "dtype: int64"
      ]
     },
     "execution_count": 270,
     "metadata": {},
     "output_type": "execute_result"
    }
   ],
   "source": [
    "ood_set = ['DUSP9+MAPK1',\n",
    " 'ETS2+MAPK1',\n",
    " 'DUSP9+ETS2',\n",
    " 'CBL+CNN1',\n",
    " 'MAPK1+DUSP9',\n",
    " 'MAPK1+ETS2',\n",
    " 'ETS2+DUSP9',\n",
    " 'CNN1+CBL']\n",
    "adata_new_small.obs['split1'] = 'nan'\n",
    "adata_new_small.obs['split1'].loc[\n",
    "    adata_new_small.obs['condition'].isin(ood_set)\n",
    "] = 'ood'\n",
    "adata_idx = adata_new_small.obs_names[adata_new_small.obs.split1!='ood']\n",
    "adata_idx_train, adata_idx_test = train_test_split(adata_idx, test_size=0.2, random_state=42)\n",
    "adata_new_small.obs['split1'].loc[adata_idx_train] = 'train'\n",
    "adata_new_small.obs['split1'].loc[adata_idx_test] = 'test'\n",
    "adata_new_small.obs.groupby('split1').size()"
   ]
  },
  {
   "cell_type": "code",
   "execution_count": 271,
   "metadata": {},
   "outputs": [],
   "source": [
    "condition_key = \"condition\""
   ]
  },
  {
   "cell_type": "markdown",
   "metadata": {},
   "source": [
    "split for leave one 10 out and predict"
   ]
  },
  {
   "cell_type": "code",
   "execution_count": 272,
   "metadata": {},
   "outputs": [],
   "source": [
    "double_ko_list = [i for i in adata_new_small.obs[condition_key].unique() if \"ctrl\" not in i]\n",
    "single = [i for i in adata_new_small.obs[condition_key].unique() if \"ctrl\" in i]\n",
    "np.random.shuffle(double_ko_list)\n",
    "\n",
    "#drug split into splits of 10\n",
    "ood_list = []\n",
    "i = 0\n",
    "while(i<len(double_ko_list)):\n",
    "    ood_list.append(double_ko_list[i:min(i+10,len(double_ko_list))])\n",
    "    i+=10\n",
    "ood_list[len(ood_list)-2] = ood_list[len(ood_list)-2] + ood_list[len(ood_list)-1]\n",
    "del(ood_list[len(ood_list)-1])"
   ]
  },
  {
   "cell_type": "code",
   "execution_count": 273,
   "metadata": {},
   "outputs": [
    {
     "name": "stdout",
     "output_type": "stream",
     "text": [
      "['PTPN12+OSR2', 'DUSP9+PRTG', 'POU3F2+FOXL2', 'UBASH3B+CNN1', 'MAP2K6+SPI1', 'SAMD1+PTPN12', 'MAPK1+TGFBR2', 'FOXF1+FOXL2', 'IGDCC3+PRTG', 'FOXA3+FOXL2'] 0\n",
      "['CEBPE+CEBPA', 'UBASH3B+ZBTB25', 'UBASH3B+PTPN9', 'BPGM+ZBTB1', 'KLF1+BAK1', 'SNAI1+DLX2', 'KIF18B+KIF2C', 'UBASH3B+UBASH3A', 'PLK4+STIL', 'SAMD1+UBASH3B'] 1\n",
      "['FOXA3+FOXA1', 'LYL1+IER5L', 'ETS2+IGDCC3', 'PTPN12+ZBTB25', 'MAP2K3+ELMSAN1', 'KLF1+MAP2K6', 'BCL2L11+TGFBR2', 'SET+CEBPE', 'ETS2+IKZF3', 'CBL+PTPN9'] 2\n",
      "['FOXA3+FOXF1', 'JUN+CEBPA', 'DUSP9+KLF1', 'CNN1+MAPK1', 'FOSB+PTPN12', 'ETS2+CNN1', 'UBASH3B+PTPN12', 'LHX1+ELMSAN1', 'ZC3HAV1+CEBPA', 'KLF1+CLDN6'] 3\n",
      "['FOSB+CEBPE', 'SET+KLF1', 'CBL+UBASH3A', 'AHR+KLF1', 'LYL1+CEBPB', 'RHOXF2+SET', 'IGDCC3+MAPK1', 'FOXA1+HOXB9', 'FEV+ISL2', 'C3orf72+FOXL2'] 4\n",
      "['CEBPE+RUNX1T1', 'MAP2K6+ELMSAN1', 'CEBPE+SPI1', 'CDKN1C+CDKN1A', 'TGFBR2+PRTG', 'BCL2L11+BAK1', 'KLF1+CEBPA', 'MAP2K3+SLC38A2', 'SNAI1+UBASH3B', 'FOSB+OSR2'] 5\n",
      "['KLF1+COL2A1', 'CDKN1B+CDKN1A', 'CBL+UBASH3B', 'CEBPE+PTPN12', 'ZBTB10+PTPN12', 'CEBPE+CNN1', 'MAP2K3+MAP2K6', 'FOXA1+FOXF1', 'PRDM1+CBFA2T3', 'DUSP9+ETS2'] 6\n",
      "['KLF1+FOXA1', 'TGFBR2+C19orf26', 'FOXL2+HOXB9', 'CBL+CNN1', 'SGK1+S1PR2', 'FOSB+UBASH3B', 'CEBPE+CEBPB', 'FOSB+CEBPB', 'CEBPB+MAPK1', 'RHOXF2+ZBTB25'] 7\n",
      "['DUSP9+MAPK1', 'CEBPB+CEBPA', 'BPGM+SAMD1', 'MAP2K3+IKZF3', 'PTPN12+UBASH3A', 'IGDCC3+ZBTB25', 'TMSB4X+BAK1', 'PTPN12+PTPN9', 'ZBTB10+SNAI1', 'KLF1+TGFBR2'] 8\n",
      "['FOXF1+HOXB9', 'SAMD1+TGFBR2', 'DUSP9+SNAI1', 'ZBTB10+ELMSAN1', 'FOXL2+MEIS1', 'SGK1+TBX3', 'FOXA1+FOXL2', 'TBX3+TBX2', 'AHR+FEV', 'POU3F2+CBFA2T3'] 9\n",
      "['ETS2+MAP7D1', 'ETS2+PRTG', 'CEBPB+OSR2', 'MAPK1+PRTG', 'CBL+PTPN12', 'DUSP9+IGDCC3', 'ZC3HAV1+CEBPE', 'JUN+CEBPB', 'SGK1+TBX2', 'TGFBR2+ETS2'] 10\n",
      "['ZC3HAV1+HOXC13', 'FOSB+IKZF3', 'MAPK1+IKZF3', 'CEBPB+PTPN12', 'PTPN12+SNAI1', 'CEBPE+KLF1', 'MAP2K6+IKZF3', 'ZNF318+FOXL2', 'SAMD1+ZBTB1', 'UBASH3B+OSR2'] 11\n",
      "['FEV+CBFA2T3', 'CDKN1C+CDKN1B', 'TGFBR2+IGDCC3', 'CBL+TGFBR2', 'ZBTB10+DLX2', 'IRF1+SET', 'ETS2+CEBPE', 'ETS2+MAPK1', 'CNN1+UBASH3A', 'FOXA3+HOXB9', 'FEV+MAP7D1'] 12\n"
     ]
    }
   ],
   "source": [
    "for idx, splits in enumerate(ood_list):\n",
    "    ood_set = splits\n",
    "    print(splits, idx)\n",
    "    adata_new_small.obs[f'split{idx+2}'] = 'nan'\n",
    "    adata_new_small.obs[f'split{idx+2}'].loc[\n",
    "        adata_new_small.obs['condition'].isin(ood_set)\n",
    "    ] = 'ood'\n",
    "    adata_idx = adata_new_small.obs_names[adata_new_small.obs[f'split{idx+2}']!='ood']\n",
    "    adata_idx_train, adata_idx_test = train_test_split(adata_idx, test_size=0.2, random_state=42)\n",
    "    adata_new_small.obs[f'split{idx+2}'].loc[adata_idx_train] = 'train'\n",
    "    adata_new_small.obs[f'split{idx+2}'].loc[adata_idx_test] = 'test'\n",
    "    adata_new_small.obs.groupby(f'split{idx+2}').size()"
   ]
  },
  {
   "cell_type": "code",
   "execution_count": 274,
   "metadata": {},
   "outputs": [
    {
     "data": {
      "text/plain": [
       "AnnData object with n_obs × n_vars = 108497 × 5000\n",
       "    obs: 'cov_drug_dose_name', 'dose_val', 'control', 'condition', 'guide_identity', 'drug_dose_name', 'cell_type', 'split', 'split1', 'split2', 'split3', 'split4', 'split5', 'split6', 'split7', 'split8', 'split9', 'split10', 'split11', 'split12', 'split13', 'split14'\n",
       "    var: 'gene_symbols', 'highly_variable', 'means', 'dispersions', 'dispersions_norm'\n",
       "    uns: 'log1p', 'hvg', 'rank_genes_groups_cov'\n",
       "    layers: 'counts'"
      ]
     },
     "execution_count": 274,
     "metadata": {},
     "output_type": "execute_result"
    }
   ],
   "source": [
    "adata_new_small"
   ]
  },
  {
   "cell_type": "markdown",
   "metadata": {},
   "source": [
    "robustness split"
   ]
  },
  {
   "cell_type": "code",
   "execution_count": 275,
   "metadata": {},
   "outputs": [
    {
     "name": "stdout",
     "output_type": "stream",
     "text": [
      "120\n",
      "100\n",
      "80\n",
      "60\n",
      "40\n",
      "20\n"
     ]
    }
   ],
   "source": [
    "double_ko_list = [i for i in adata_new_small.obs[condition_key].unique() if \"ctrl\" not in i]\n",
    "single = [i for i in adata_new_small.obs[condition_key].unique() if \"ctrl\" in i]\n",
    "np.random.shuffle(double_ko_list)\n",
    "\n",
    "#split into splits of 10\n",
    "ood_list = []\n",
    "i = 120\n",
    "while(i>10):\n",
    "    ood_list.append(double_ko_list[0:min(i,len(double_ko_list))])\n",
    "    print(i)\n",
    "    i-= 20"
   ]
  },
  {
   "cell_type": "code",
   "execution_count": 276,
   "metadata": {},
   "outputs": [
    {
     "name": "stdout",
     "output_type": "stream",
     "text": [
      "['TMSB4X+BAK1', 'BPGM+SAMD1', 'TBX3+TBX2', 'CDKN1C+CDKN1B', 'SAMD1+UBASH3B', 'CEBPB+CEBPA', 'CBL+PTPN12', 'DUSP9+ETS2', 'CEBPE+CNN1', 'PTPN12+OSR2', 'KLF1+MAP2K6', 'FOXA3+HOXB9', 'UBASH3B+CNN1', 'FOSB+CEBPB', 'MAP2K6+ELMSAN1', 'CEBPB+PTPN12', 'DUSP9+IGDCC3', 'SAMD1+ZBTB1', 'LYL1+IER5L', 'ZBTB10+SNAI1', 'FOXF1+HOXB9', 'IGDCC3+MAPK1', 'MAP2K6+IKZF3', 'MAPK1+PRTG', 'FOXA3+FOXF1', 'RHOXF2+SET', 'SAMD1+PTPN12', 'MAPK1+IKZF3', 'PTPN12+ZBTB25', 'FEV+CBFA2T3', 'MAP2K6+SPI1', 'SNAI1+UBASH3B', 'CEBPE+PTPN12', 'BCL2L11+TGFBR2', 'ETS2+CEBPE', 'FEV+ISL2', 'JUN+CEBPB', 'ZNF318+FOXL2', 'TGFBR2+ETS2', 'LHX1+ELMSAN1', 'MAP2K3+ELMSAN1', 'FOSB+UBASH3B', 'SET+KLF1', 'FOSB+OSR2', 'PTPN12+SNAI1', 'CEBPE+CEBPA', 'ZBTB10+DLX2', 'DUSP9+SNAI1', 'ETS2+MAPK1', 'CEBPE+KLF1', 'CNN1+UBASH3A', 'ZBTB10+PTPN12', 'ZC3HAV1+CEBPE', 'MAPK1+TGFBR2', 'PRDM1+CBFA2T3', 'KLF1+BAK1', 'UBASH3B+PTPN12', 'ETS2+IKZF3', 'FOSB+PTPN12', 'UBASH3B+ZBTB25', 'TGFBR2+PRTG', 'FOXA3+FOXL2', 'ETS2+IGDCC3', 'KLF1+TGFBR2', 'CEBPB+OSR2', 'ZC3HAV1+HOXC13', 'ETS2+CNN1', 'UBASH3B+PTPN9', 'PTPN12+UBASH3A', 'ZC3HAV1+CEBPA', 'ETS2+MAP7D1', 'FOXA1+FOXL2', 'FEV+MAP7D1', 'FOXA1+FOXF1', 'KLF1+COL2A1', 'KIF18B+KIF2C', 'BPGM+ZBTB1', 'IGDCC3+PRTG', 'CBL+UBASH3A', 'KLF1+FOXA1', 'MAP2K3+SLC38A2', 'FOSB+CEBPE', 'POU3F2+CBFA2T3', 'UBASH3B+UBASH3A', 'DUSP9+MAPK1', 'CBL+CNN1', 'UBASH3B+OSR2', 'BCL2L11+BAK1', 'CEBPE+SPI1', 'CEBPE+CEBPB', 'SGK1+TBX2', 'FOXA1+HOXB9', 'CEBPB+MAPK1', 'SET+CEBPE', 'MAP2K3+MAP2K6', 'DUSP9+KLF1', 'AHR+FEV', 'MAP2K3+IKZF3', 'FOSB+IKZF3', 'CDKN1B+CDKN1A', 'CNN1+MAPK1', 'FOXL2+HOXB9', 'TGFBR2+C19orf26', 'AHR+KLF1', 'CEBPE+RUNX1T1', 'IRF1+SET', 'DUSP9+PRTG', 'FOXA3+FOXA1', 'POU3F2+FOXL2', 'TGFBR2+IGDCC3', 'KLF1+CLDN6', 'CDKN1C+CDKN1A', 'CBL+PTPN9', 'C3orf72+FOXL2', 'ETS2+PRTG', 'JUN+CEBPA', 'KLF1+CEBPA', 'SNAI1+DLX2', 'SGK1+S1PR2', 'IGDCC3+ZBTB25'] 0\n",
      "['TMSB4X+BAK1', 'BPGM+SAMD1', 'TBX3+TBX2', 'CDKN1C+CDKN1B', 'SAMD1+UBASH3B', 'CEBPB+CEBPA', 'CBL+PTPN12', 'DUSP9+ETS2', 'CEBPE+CNN1', 'PTPN12+OSR2', 'KLF1+MAP2K6', 'FOXA3+HOXB9', 'UBASH3B+CNN1', 'FOSB+CEBPB', 'MAP2K6+ELMSAN1', 'CEBPB+PTPN12', 'DUSP9+IGDCC3', 'SAMD1+ZBTB1', 'LYL1+IER5L', 'ZBTB10+SNAI1', 'FOXF1+HOXB9', 'IGDCC3+MAPK1', 'MAP2K6+IKZF3', 'MAPK1+PRTG', 'FOXA3+FOXF1', 'RHOXF2+SET', 'SAMD1+PTPN12', 'MAPK1+IKZF3', 'PTPN12+ZBTB25', 'FEV+CBFA2T3', 'MAP2K6+SPI1', 'SNAI1+UBASH3B', 'CEBPE+PTPN12', 'BCL2L11+TGFBR2', 'ETS2+CEBPE', 'FEV+ISL2', 'JUN+CEBPB', 'ZNF318+FOXL2', 'TGFBR2+ETS2', 'LHX1+ELMSAN1', 'MAP2K3+ELMSAN1', 'FOSB+UBASH3B', 'SET+KLF1', 'FOSB+OSR2', 'PTPN12+SNAI1', 'CEBPE+CEBPA', 'ZBTB10+DLX2', 'DUSP9+SNAI1', 'ETS2+MAPK1', 'CEBPE+KLF1', 'CNN1+UBASH3A', 'ZBTB10+PTPN12', 'ZC3HAV1+CEBPE', 'MAPK1+TGFBR2', 'PRDM1+CBFA2T3', 'KLF1+BAK1', 'UBASH3B+PTPN12', 'ETS2+IKZF3', 'FOSB+PTPN12', 'UBASH3B+ZBTB25', 'TGFBR2+PRTG', 'FOXA3+FOXL2', 'ETS2+IGDCC3', 'KLF1+TGFBR2', 'CEBPB+OSR2', 'ZC3HAV1+HOXC13', 'ETS2+CNN1', 'UBASH3B+PTPN9', 'PTPN12+UBASH3A', 'ZC3HAV1+CEBPA', 'ETS2+MAP7D1', 'FOXA1+FOXL2', 'FEV+MAP7D1', 'FOXA1+FOXF1', 'KLF1+COL2A1', 'KIF18B+KIF2C', 'BPGM+ZBTB1', 'IGDCC3+PRTG', 'CBL+UBASH3A', 'KLF1+FOXA1', 'MAP2K3+SLC38A2', 'FOSB+CEBPE', 'POU3F2+CBFA2T3', 'UBASH3B+UBASH3A', 'DUSP9+MAPK1', 'CBL+CNN1', 'UBASH3B+OSR2', 'BCL2L11+BAK1', 'CEBPE+SPI1', 'CEBPE+CEBPB', 'SGK1+TBX2', 'FOXA1+HOXB9', 'CEBPB+MAPK1', 'SET+CEBPE', 'MAP2K3+MAP2K6', 'DUSP9+KLF1', 'AHR+FEV', 'MAP2K3+IKZF3', 'FOSB+IKZF3', 'CDKN1B+CDKN1A'] 1\n",
      "['TMSB4X+BAK1', 'BPGM+SAMD1', 'TBX3+TBX2', 'CDKN1C+CDKN1B', 'SAMD1+UBASH3B', 'CEBPB+CEBPA', 'CBL+PTPN12', 'DUSP9+ETS2', 'CEBPE+CNN1', 'PTPN12+OSR2', 'KLF1+MAP2K6', 'FOXA3+HOXB9', 'UBASH3B+CNN1', 'FOSB+CEBPB', 'MAP2K6+ELMSAN1', 'CEBPB+PTPN12', 'DUSP9+IGDCC3', 'SAMD1+ZBTB1', 'LYL1+IER5L', 'ZBTB10+SNAI1', 'FOXF1+HOXB9', 'IGDCC3+MAPK1', 'MAP2K6+IKZF3', 'MAPK1+PRTG', 'FOXA3+FOXF1', 'RHOXF2+SET', 'SAMD1+PTPN12', 'MAPK1+IKZF3', 'PTPN12+ZBTB25', 'FEV+CBFA2T3', 'MAP2K6+SPI1', 'SNAI1+UBASH3B', 'CEBPE+PTPN12', 'BCL2L11+TGFBR2', 'ETS2+CEBPE', 'FEV+ISL2', 'JUN+CEBPB', 'ZNF318+FOXL2', 'TGFBR2+ETS2', 'LHX1+ELMSAN1', 'MAP2K3+ELMSAN1', 'FOSB+UBASH3B', 'SET+KLF1', 'FOSB+OSR2', 'PTPN12+SNAI1', 'CEBPE+CEBPA', 'ZBTB10+DLX2', 'DUSP9+SNAI1', 'ETS2+MAPK1', 'CEBPE+KLF1', 'CNN1+UBASH3A', 'ZBTB10+PTPN12', 'ZC3HAV1+CEBPE', 'MAPK1+TGFBR2', 'PRDM1+CBFA2T3', 'KLF1+BAK1', 'UBASH3B+PTPN12', 'ETS2+IKZF3', 'FOSB+PTPN12', 'UBASH3B+ZBTB25', 'TGFBR2+PRTG', 'FOXA3+FOXL2', 'ETS2+IGDCC3', 'KLF1+TGFBR2', 'CEBPB+OSR2', 'ZC3HAV1+HOXC13', 'ETS2+CNN1', 'UBASH3B+PTPN9', 'PTPN12+UBASH3A', 'ZC3HAV1+CEBPA', 'ETS2+MAP7D1', 'FOXA1+FOXL2', 'FEV+MAP7D1', 'FOXA1+FOXF1', 'KLF1+COL2A1', 'KIF18B+KIF2C', 'BPGM+ZBTB1', 'IGDCC3+PRTG', 'CBL+UBASH3A', 'KLF1+FOXA1'] 2\n",
      "['TMSB4X+BAK1', 'BPGM+SAMD1', 'TBX3+TBX2', 'CDKN1C+CDKN1B', 'SAMD1+UBASH3B', 'CEBPB+CEBPA', 'CBL+PTPN12', 'DUSP9+ETS2', 'CEBPE+CNN1', 'PTPN12+OSR2', 'KLF1+MAP2K6', 'FOXA3+HOXB9', 'UBASH3B+CNN1', 'FOSB+CEBPB', 'MAP2K6+ELMSAN1', 'CEBPB+PTPN12', 'DUSP9+IGDCC3', 'SAMD1+ZBTB1', 'LYL1+IER5L', 'ZBTB10+SNAI1', 'FOXF1+HOXB9', 'IGDCC3+MAPK1', 'MAP2K6+IKZF3', 'MAPK1+PRTG', 'FOXA3+FOXF1', 'RHOXF2+SET', 'SAMD1+PTPN12', 'MAPK1+IKZF3', 'PTPN12+ZBTB25', 'FEV+CBFA2T3', 'MAP2K6+SPI1', 'SNAI1+UBASH3B', 'CEBPE+PTPN12', 'BCL2L11+TGFBR2', 'ETS2+CEBPE', 'FEV+ISL2', 'JUN+CEBPB', 'ZNF318+FOXL2', 'TGFBR2+ETS2', 'LHX1+ELMSAN1', 'MAP2K3+ELMSAN1', 'FOSB+UBASH3B', 'SET+KLF1', 'FOSB+OSR2', 'PTPN12+SNAI1', 'CEBPE+CEBPA', 'ZBTB10+DLX2', 'DUSP9+SNAI1', 'ETS2+MAPK1', 'CEBPE+KLF1', 'CNN1+UBASH3A', 'ZBTB10+PTPN12', 'ZC3HAV1+CEBPE', 'MAPK1+TGFBR2', 'PRDM1+CBFA2T3', 'KLF1+BAK1', 'UBASH3B+PTPN12', 'ETS2+IKZF3', 'FOSB+PTPN12', 'UBASH3B+ZBTB25'] 3\n",
      "['TMSB4X+BAK1', 'BPGM+SAMD1', 'TBX3+TBX2', 'CDKN1C+CDKN1B', 'SAMD1+UBASH3B', 'CEBPB+CEBPA', 'CBL+PTPN12', 'DUSP9+ETS2', 'CEBPE+CNN1', 'PTPN12+OSR2', 'KLF1+MAP2K6', 'FOXA3+HOXB9', 'UBASH3B+CNN1', 'FOSB+CEBPB', 'MAP2K6+ELMSAN1', 'CEBPB+PTPN12', 'DUSP9+IGDCC3', 'SAMD1+ZBTB1', 'LYL1+IER5L', 'ZBTB10+SNAI1', 'FOXF1+HOXB9', 'IGDCC3+MAPK1', 'MAP2K6+IKZF3', 'MAPK1+PRTG', 'FOXA3+FOXF1', 'RHOXF2+SET', 'SAMD1+PTPN12', 'MAPK1+IKZF3', 'PTPN12+ZBTB25', 'FEV+CBFA2T3', 'MAP2K6+SPI1', 'SNAI1+UBASH3B', 'CEBPE+PTPN12', 'BCL2L11+TGFBR2', 'ETS2+CEBPE', 'FEV+ISL2', 'JUN+CEBPB', 'ZNF318+FOXL2', 'TGFBR2+ETS2', 'LHX1+ELMSAN1'] 4\n",
      "['TMSB4X+BAK1', 'BPGM+SAMD1', 'TBX3+TBX2', 'CDKN1C+CDKN1B', 'SAMD1+UBASH3B', 'CEBPB+CEBPA', 'CBL+PTPN12', 'DUSP9+ETS2', 'CEBPE+CNN1', 'PTPN12+OSR2', 'KLF1+MAP2K6', 'FOXA3+HOXB9', 'UBASH3B+CNN1', 'FOSB+CEBPB', 'MAP2K6+ELMSAN1', 'CEBPB+PTPN12', 'DUSP9+IGDCC3', 'SAMD1+ZBTB1', 'LYL1+IER5L', 'ZBTB10+SNAI1'] 5\n"
     ]
    }
   ],
   "source": [
    "for idx, splits in enumerate(ood_list):\n",
    "    ood_set = splits\n",
    "    print(splits, idx)\n",
    "    adata_new_small.obs[f'split{idx+15}'] = 'nan'\n",
    "    adata_new_small.obs[f'split{idx+15}'].loc[\n",
    "        adata_new_small.obs['condition'].isin(ood_set)\n",
    "    ] = 'ood'\n",
    "    adata_idx = adata_new_small.obs_names[adata_new_small.obs[f'split{idx+15}']!='ood']\n",
    "    adata_idx_train, adata_idx_test = train_test_split(adata_idx, test_size=0.2, random_state=42)\n",
    "    adata_new_small.obs[f'split{idx+15}'].loc[adata_idx_train] = 'train'\n",
    "    adata_new_small.obs[f'split{idx+15}'].loc[adata_idx_test] = 'test'\n",
    "    adata_new_small.obs.groupby(f'split{idx+15}').size()"
   ]
  },
  {
   "cell_type": "markdown",
   "metadata": {},
   "source": [
    "epistasis"
   ]
  },
  {
   "cell_type": "code",
   "execution_count": 329,
   "metadata": {},
   "outputs": [
    {
     "name": "stderr",
     "output_type": "stream",
     "text": [
      "/home/mohammad/anaconda3/envs/scvi-env/lib/python3.7/site-packages/pandas/core/indexing.py:670: SettingWithCopyWarning: \n",
      "A value is trying to be set on a copy of a slice from a DataFrame\n",
      "\n",
      "See the caveats in the documentation: https://pandas.pydata.org/pandas-docs/stable/user_guide/indexing.html#returning-a-view-versus-a-copy\n",
      "  iloc._setitem_with_indexer(indexer, value)\n"
     ]
    },
    {
     "data": {
      "text/plain": [
       "split21\n",
       "ood       3824\n",
       "test     20935\n",
       "train    83738\n",
       "dtype: int64"
      ]
     },
     "execution_count": 329,
     "metadata": {},
     "output_type": "execute_result"
    }
   ],
   "source": [
    "epistasis = [\"AHR+KLF1\",\"MAPK1+TGFBR2\",\"TGFBR2+IGDCC3\",\"TGFBR2+PRTG\",\n",
    "             \"UBASH3B+OSR2\",\"DUSP9+ETS2\",\"KLF1+CEBPA\",\"MAP2K6+IKZF3\",\"ZC3HAV1+CEBPA\"]\n",
    "ood_set = epistasis\n",
    "adata_new_small.obs['split21'] = 'nan'\n",
    "adata_new_small.obs['split21'].loc[\n",
    "    adata_new_small.obs['condition'].isin(ood_set)\n",
    "] = 'ood'\n",
    "adata_idx = adata_new_small.obs_names[adata_new_small.obs.split21!='ood']\n",
    "adata_idx_train, adata_idx_test = train_test_split(adata_idx, test_size=0.2, random_state=42)\n",
    "adata_new_small.obs['split21'].loc[adata_idx_train] = 'train'\n",
    "adata_new_small.obs['split21'].loc[adata_idx_test] = 'test'\n",
    "adata_new_small.obs.groupby('split21').size()"
   ]
  },
  {
   "cell_type": "code",
   "execution_count": 339,
   "metadata": {},
   "outputs": [],
   "source": [
    "check = adata_new_small[adata_new_small.obs[\"split21\"] == \"ood\"]"
   ]
  },
  {
   "cell_type": "code",
   "execution_count": 341,
   "metadata": {},
   "outputs": [
    {
     "data": {
      "text/plain": [
       "UBASH3B+OSR2     796\n",
       "DUSP9+ETS2       787\n",
       "MAPK1+TGFBR2     497\n",
       "AHR+KLF1         481\n",
       "KLF1+CEBPA       311\n",
       "TGFBR2+IGDCC3    301\n",
       "MAP2K6+IKZF3     300\n",
       "TGFBR2+PRTG      265\n",
       "ZC3HAV1+CEBPA     86\n",
       "Name: condition, dtype: int64"
      ]
     },
     "execution_count": 341,
     "metadata": {},
     "output_type": "execute_result"
    }
   ],
   "source": [
    "check.obs[condition_key].value_counts()"
   ]
  },
  {
   "cell_type": "markdown",
   "metadata": {},
   "source": [
    "neomorphic interactions"
   ]
  },
  {
   "cell_type": "code",
   "execution_count": 344,
   "metadata": {},
   "outputs": [],
   "source": [
    "nemorphic = [\"CBL+TGFBR2\",\"KLF1+TGFBR2\",\"MAP2K6+SPI1\",\n",
    "            \"SAMD1+TGFBR2\",\"TGFBR2+ETS2\",\"CBL+UBASH3A\",\n",
    "            \"CEBPE+KLF1\",\"PTPN12+OSR2\",\"ZC3HAV1+CEBPE\",\"PLK4+STIL\",\"FOSB+PTPN12\",\"FEV+CBFA2T3\"]"
   ]
  },
  {
   "cell_type": "code",
   "execution_count": 345,
   "metadata": {},
   "outputs": [
    {
     "name": "stderr",
     "output_type": "stream",
     "text": [
      "/home/mohammad/anaconda3/envs/scvi-env/lib/python3.7/site-packages/pandas/core/indexing.py:670: SettingWithCopyWarning: \n",
      "A value is trying to be set on a copy of a slice from a DataFrame\n",
      "\n",
      "See the caveats in the documentation: https://pandas.pydata.org/pandas-docs/stable/user_guide/indexing.html#returning-a-view-versus-a-copy\n",
      "  iloc._setitem_with_indexer(indexer, value)\n"
     ]
    },
    {
     "data": {
      "text/plain": [
       "split22\n",
       "ood       3083\n",
       "test     21083\n",
       "train    84331\n",
       "dtype: int64"
      ]
     },
     "execution_count": 345,
     "metadata": {},
     "output_type": "execute_result"
    }
   ],
   "source": [
    "ood_set = nemorphic\n",
    "adata_new_small.obs['split22'] = 'nan'\n",
    "adata_new_small.obs['split22'].loc[\n",
    "    adata_new_small.obs['condition'].isin(ood_set)\n",
    "] = 'ood'\n",
    "adata_idx = adata_new_small.obs_names[adata_new_small.obs.split22!='ood']\n",
    "adata_idx_train, adata_idx_test = train_test_split(adata_idx, test_size=0.2, random_state=42)\n",
    "adata_new_small.obs['split22'].loc[adata_idx_train] = 'train'\n",
    "adata_new_small.obs['split22'].loc[adata_idx_test] = 'test'\n",
    "adata_new_small.obs.groupby('split22').size()"
   ]
  },
  {
   "cell_type": "code",
   "execution_count": 347,
   "metadata": {},
   "outputs": [],
   "source": [
    "check = adata_new_small[adata_new_small.obs[\"split22\"] == \"ood\"]"
   ]
  },
  {
   "cell_type": "code",
   "execution_count": 348,
   "metadata": {},
   "outputs": [
    {
     "data": {
      "text/plain": [
       "CEBPE+KLF1       468\n",
       "ZC3HAV1+CEBPE    410\n",
       "FOSB+PTPN12      345\n",
       "PTPN12+OSR2      339\n",
       "KLF1+TGFBR2      337\n",
       "TGFBR2+ETS2      318\n",
       "MAP2K6+SPI1      302\n",
       "CBL+TGFBR2       188\n",
       "FEV+CBFA2T3      159\n",
       "PLK4+STIL         81\n",
       "SAMD1+TGFBR2      72\n",
       "CBL+UBASH3A       64\n",
       "Name: condition, dtype: int64"
      ]
     },
     "execution_count": 348,
     "metadata": {},
     "output_type": "execute_result"
    }
   ],
   "source": [
    "check.obs[condition_key].value_counts()"
   ]
  },
  {
   "cell_type": "code",
   "execution_count": 356,
   "metadata": {},
   "outputs": [
    {
     "data": {
      "text/plain": [
       "set()"
      ]
     },
     "execution_count": 356,
     "metadata": {},
     "output_type": "execute_result"
    }
   ],
   "source": [
    "set(set_orig)"
   ]
  },
  {
   "cell_type": "code",
   "execution_count": 359,
   "metadata": {},
   "outputs": [],
   "source": [
    "set_orig = []\n",
    "for i in adata_new_small.obs[condition_key].unique():\n",
    "    for j in nemorphic:\n",
    "        split = j.split(\"+\")\n",
    "        if (split[0] in i) and (split[1] in i):\n",
    "            set_orig.append(i)\n"
   ]
  },
  {
   "cell_type": "code",
   "execution_count": 361,
   "metadata": {},
   "outputs": [
    {
     "data": {
      "text/plain": [
       "True"
      ]
     },
     "execution_count": 361,
     "metadata": {},
     "output_type": "execute_result"
    }
   ],
   "source": [
    "set(set_orig) == set(nemorphic)"
   ]
  },
  {
   "cell_type": "markdown",
   "metadata": {},
   "source": [
    "leave all doubles out  out"
   ]
  },
  {
   "cell_type": "code",
   "execution_count": 364,
   "metadata": {},
   "outputs": [],
   "source": [
    "double_ko_list = [i for i in adata_new_small.obs[condition_key].unique() if \"ctrl\" not in i]\n",
    "single = [i for i in adata_new_small.obs[condition_key].unique() if \"ctrl\" in i]\n",
    "np.random.shuffle(double_ko_list)"
   ]
  },
  {
   "cell_type": "code",
   "execution_count": 368,
   "metadata": {},
   "outputs": [
    {
     "data": {
      "text/plain": [
       "split23\n",
       "ood      41759\n",
       "test     13348\n",
       "train    53390\n",
       "dtype: int64"
      ]
     },
     "execution_count": 368,
     "metadata": {},
     "output_type": "execute_result"
    }
   ],
   "source": [
    "ood_set = double_ko_list\n",
    "adata_new_small.obs['split23'] = 'nan'\n",
    "adata_new_small.obs['split23'].loc[\n",
    "    adata_new_small.obs['condition'].isin(ood_set)\n",
    "] = 'ood'\n",
    "adata_idx = adata_new_small.obs_names[adata_new_small.obs.split23!='ood']\n",
    "adata_idx_train, adata_idx_test = train_test_split(adata_idx, test_size=0.2, random_state=42)\n",
    "adata_new_small.obs['split23'].loc[adata_idx_train] = 'train'\n",
    "adata_new_small.obs['split23'].loc[adata_idx_test] = 'test'\n",
    "adata_new_small.obs.groupby('split23').size()"
   ]
  },
  {
   "cell_type": "markdown",
   "metadata": {},
   "source": [
    "saving final object"
   ]
  },
  {
   "cell_type": "code",
   "execution_count": 369,
   "metadata": {},
   "outputs": [
    {
     "data": {
      "text/plain": [
       "AnnData object with n_obs × n_vars = 108497 × 5000\n",
       "    obs: 'cov_drug_dose_name', 'dose_val', 'control', 'condition', 'guide_identity', 'drug_dose_name', 'cell_type', 'split', 'split1', 'split2', 'split3', 'split4', 'split5', 'split6', 'split7', 'split8', 'split9', 'split10', 'split11', 'split12', 'split13', 'split14', 'split15', 'split16', 'split17', 'split18', 'split19', 'split20', 'split21', 'split22', 'split23'\n",
       "    var: 'gene_symbols', 'highly_variable', 'means', 'dispersions', 'dispersions_norm'\n",
       "    uns: 'log1p', 'hvg', 'rank_genes_groups_cov'\n",
       "    layers: 'counts'"
      ]
     },
     "execution_count": 369,
     "metadata": {},
     "output_type": "execute_result"
    }
   ],
   "source": [
    "adata_new_small"
   ]
  },
  {
   "cell_type": "code",
   "execution_count": 370,
   "metadata": {},
   "outputs": [
    {
     "name": "stderr",
     "output_type": "stream",
     "text": [
      "... storing 'split23' as categorical\n"
     ]
    }
   ],
   "source": [
    "adata_new_small.write(\"./datasets/Norman2019_prep_new.h5ad\")"
   ]
  },
  {
   "cell_type": "markdown",
   "metadata": {},
   "source": [
    "add two splits "
   ]
  },
  {
   "cell_type": "markdown",
   "metadata": {},
   "source": [
    "split DUSP9+MAPK1"
   ]
  },
  {
   "cell_type": "code",
   "execution_count": 4,
   "metadata": {},
   "outputs": [],
   "source": [
    "adata_new = sc.read(\"./datasets/Norman2019_prep_new.h5ad\")"
   ]
  },
  {
   "cell_type": "code",
   "execution_count": 8,
   "metadata": {},
   "outputs": [
    {
     "name": "stderr",
     "output_type": "stream",
     "text": [
      "/home/mo/miniconda3/envs/pytorch/lib/python3.8/site-packages/pandas/core/indexing.py:1637: SettingWithCopyWarning: \n",
      "A value is trying to be set on a copy of a slice from a DataFrame\n",
      "\n",
      "See the caveats in the documentation: https://pandas.pydata.org/pandas-docs/stable/user_guide/indexing.html#returning-a-view-versus-a-copy\n",
      "  self._setitem_single_block(indexer, value, name)\n",
      "/home/mo/miniconda3/envs/pytorch/lib/python3.8/site-packages/pandas/core/arrays/categorical.py:2487: FutureWarning: The `inplace` parameter in pandas.Categorical.remove_unused_categories is deprecated and will be removed in a future version.\n",
      "  res = method(*args, **kwargs)\n"
     ]
    },
    {
     "data": {
      "text/plain": [
       "split24\n",
       "ood        290\n",
       "test     21642\n",
       "train    86565\n",
       "dtype: int64"
      ]
     },
     "execution_count": 8,
     "metadata": {},
     "output_type": "execute_result"
    }
   ],
   "source": [
    "ood_set = ['DUSP9+MAPK1']\n",
    "adata_new.obs['split24'] = 'nan'\n",
    "adata_new.obs['split24'].loc[\n",
    "    adata_new.obs['condition'].isin(ood_set)\n",
    "] = 'ood'\n",
    "adata_idx = adata_new.obs_names[adata_new.obs.split24!='ood']\n",
    "adata_idx_train, adata_idx_test = train_test_split(adata_idx, test_size=0.2, random_state=42)\n",
    "adata_idx = adata_new.obs_names[adata_new.obs.split24!='ood']\n",
    "train_test = adata_new[~adata_new.obs[\"condition\"].isin(ood_set)].copy()\n",
    "adata_new.obs['split24'].loc[adata_idx_train] = 'train'\n",
    "adata_new.obs['split24'].loc[adata_idx_test] = 'test'\n",
    "adata_new.obs.groupby('split24').size()"
   ]
  },
  {
   "cell_type": "markdown",
   "metadata": {},
   "source": [
    "split DUSP9+ETS2"
   ]
  },
  {
   "cell_type": "code",
   "execution_count": 9,
   "metadata": {},
   "outputs": [
    {
     "name": "stderr",
     "output_type": "stream",
     "text": [
      "/home/mo/miniconda3/envs/pytorch/lib/python3.8/site-packages/pandas/core/indexing.py:1637: SettingWithCopyWarning: \n",
      "A value is trying to be set on a copy of a slice from a DataFrame\n",
      "\n",
      "See the caveats in the documentation: https://pandas.pydata.org/pandas-docs/stable/user_guide/indexing.html#returning-a-view-versus-a-copy\n",
      "  self._setitem_single_block(indexer, value, name)\n",
      "/home/mo/miniconda3/envs/pytorch/lib/python3.8/site-packages/pandas/core/arrays/categorical.py:2487: FutureWarning: The `inplace` parameter in pandas.Categorical.remove_unused_categories is deprecated and will be removed in a future version.\n",
      "  res = method(*args, **kwargs)\n"
     ]
    },
    {
     "data": {
      "text/plain": [
       "split25\n",
       "ood        787\n",
       "test     21542\n",
       "train    86168\n",
       "dtype: int64"
      ]
     },
     "execution_count": 9,
     "metadata": {},
     "output_type": "execute_result"
    }
   ],
   "source": [
    "ood_set = [\"DUSP9+ETS2\"]\n",
    "adata_new.obs['split25'] = 'nan'\n",
    "adata_new.obs['split25'].loc[\n",
    "    adata_new.obs['condition'].isin(ood_set)\n",
    "] = 'ood'\n",
    "adata_idx = adata_new.obs_names[adata_new.obs.split25!='ood']\n",
    "adata_idx_train, adata_idx_test = train_test_split(adata_idx, test_size=0.2, random_state=42)\n",
    "adata_idx = adata_new.obs_names[adata_new.obs.split25!='ood']\n",
    "train_test = adata_new[~adata_new.obs[\"condition\"].isin(ood_set)].copy()\n",
    "adata_new.obs['split25'].loc[adata_idx_train] = 'train'\n",
    "adata_new.obs['split25'].loc[adata_idx_test] = 'test'\n",
    "adata_new.obs.groupby('split25').size()"
   ]
  },
  {
   "cell_type": "code",
   "execution_count": 11,
   "metadata": {},
   "outputs": [
    {
     "name": "stderr",
     "output_type": "stream",
     "text": [
      "... storing 'split24' as categorical\n",
      "... storing 'split25' as categorical\n"
     ]
    }
   ],
   "source": [
    "adata_new.write(\"./datasets/Norman2019_prep_new.h5ad\")"
   ]
  },
  {
   "cell_type": "code",
   "execution_count": null,
   "metadata": {},
   "outputs": [],
   "source": []
  }
 ],
 "metadata": {
  "kernelspec": {
   "display_name": "Python 3",
   "language": "python",
   "name": "python3"
  },
  "language_info": {
   "codemirror_mode": {
    "name": "ipython",
    "version": 3
   },
   "file_extension": ".py",
   "mimetype": "text/x-python",
   "name": "python",
   "nbconvert_exporter": "python",
   "pygments_lexer": "ipython3",
   "version": "3.8.8"
  }
 },
 "nbformat": 4,
 "nbformat_minor": 4
}
