{
 "cells": [
  {
   "cell_type": "markdown",
   "metadata": {},
   "source": [
    "## Loading the data"
   ]
  },
  {
   "cell_type": "code",
   "execution_count": 31,
   "metadata": {},
   "outputs": [
    {
     "name": "stdout",
     "output_type": "stream",
     "text": [
      "The autoreload extension is already loaded. To reload it, use:\n",
      "  %reload_ext autoreload\n"
     ]
    }
   ],
   "source": [
    "from collections import defaultdict\n",
    "from cpa.helper import evaluate_r2_, evaluate_mmd, evaluate_emd\n",
    "import matplotlib.pyplot as plt\n",
    "import numpy as np\n",
    "import pandas as pd\n",
    "import scanpy as sc\n",
    "import seaborn as sns\n",
    "%load_ext autoreload\n",
    "%autoreload 2"
   ]
  },
  {
   "cell_type": "code",
   "execution_count": 17,
   "metadata": {},
   "outputs": [],
   "source": [
    "adata = sc.read('../datasets/sciplex3_new.h5ad')\n",
    "adata_old = sc.read('../datasets/sciplex3_old_reproduced.h5ad')\n",
    "adata.obs = adata_old.obs"
   ]
  },
  {
   "cell_type": "code",
   "execution_count": 18,
   "metadata": {},
   "outputs": [
    {
     "name": "stderr",
     "output_type": "stream",
     "text": [
      "Trying to set attribute `.obs` of view, copying.\n"
     ]
    }
   ],
   "source": [
    "ood = adata.obs[adata.obs['split']=='ood'][['cell_type', 'condition']].drop_duplicates()\n",
    "ood_dict = {}\n",
    "ood_dict['K562'] = ood[ood['cell_type'] == 'K562']['condition'].unique()\n",
    "ood_dict['A549'] = ood[ood['cell_type'] == 'A549']['condition'].unique()\n",
    "ood_dict['MCF7'] = ood[ood['cell_type'] == 'MCF7']['condition'].unique()\n",
    "\n",
    "adata = adata[(adata.obs['control'] == 1) | (adata.obs['dose'] == 1000)]\n",
    "\n",
    "for ct in ['A549', 'K562', 'MCF7']:\n",
    "    adata.obs[f'split_{ct}'] = adata.obs['split'].astype(str)\n",
    "    adata.obs[f'split_{ct}'][\n",
    "        (adata.obs['cell_type']==ct) & (adata.obs['condition'].isin(ood_dict[ct]))\n",
    "    ] = 'ood'"
   ]
  },
  {
   "cell_type": "code",
   "execution_count": 19,
   "metadata": {},
   "outputs": [
    {
     "name": "stderr",
     "output_type": "stream",
     "text": [
      "Observation names are not unique. To make them unique, call `.obs_names_make_unique`.\n",
      "Observation names are not unique. To make them unique, call `.obs_names_make_unique`.\n",
      "Observation names are not unique. To make them unique, call `.obs_names_make_unique`.\n",
      "Observation names are not unique. To make them unique, call `.obs_names_make_unique`.\n",
      "Observation names are not unique. To make them unique, call `.obs_names_make_unique`.\n",
      "Observation names are not unique. To make them unique, call `.obs_names_make_unique`.\n"
     ]
    }
   ],
   "source": [
    "preds = defaultdict(dict)\n",
    "for model in ['cpa', 'cpa_sample', 'scgen']:\n",
    "    for ct in ['A549', 'K562', 'MCF7']:\n",
    "        preds[model][ct] = sc.read(f'preds_{model}_{ct}.h5ad')"
   ]
  },
  {
   "cell_type": "code",
   "execution_count": 20,
   "metadata": {},
   "outputs": [],
   "source": [
    "de_genes_dict = {}\n",
    "for ct in ['A549', 'K562', 'MCF7']:\n",
    "    de_genes_dict[ct] = {\n",
    "        key.split('_')[1]: value \n",
    "        for key, value \n",
    "        in adata.uns['rank_genes_groups_cov'].items() \n",
    "        if (ct in key) and ('0.1' in key)\n",
    "    }"
   ]
  },
  {
   "cell_type": "code",
   "execution_count": 21,
   "metadata": {},
   "outputs": [
    {
     "name": "stdout",
     "output_type": "stream",
     "text": [
      "A549\n",
      "K562\n",
      "MCF7\n",
      "A549\n",
      "K562\n",
      "MCF7\n"
     ]
    }
   ],
   "source": [
    "df_r2 = defaultdict(dict)\n",
    "df_emd = defaultdict(dict)\n",
    "df_mmd = defaultdict(dict)\n",
    "\n",
    "for ct in ['A549', 'K562', 'MCF7']:\n",
    "    print(ct)\n",
    "    adata_ood = adata[adata.obs[f'split_{ct}'] == 'ood'].copy()\n",
    "    df_r2['cpa'][ct] = evaluate_r2_(\n",
    "        adata_ood, \n",
    "        preds['cpa'][ct], \n",
    "        condition_key='condition', \n",
    "        sampled=False, \n",
    "        de_genes_dict=de_genes_dict[ct]\n",
    "    )\n",
    "    df_r2['cpa_sample'][ct] = evaluate_r2_(\n",
    "        adata_ood, \n",
    "        preds['cpa_sample'][ct], \n",
    "        condition_key='condition', \n",
    "        sampled=True, \n",
    "        de_genes_dict=de_genes_dict[ct]\n",
    "    )\n",
    "    df_r2['scgen'][ct] = evaluate_r2_(\n",
    "        adata_ood, \n",
    "        preds['scgen'][ct], \n",
    "        condition_key='condition', \n",
    "        sampled=True, \n",
    "        de_genes_dict=de_genes_dict[ct]\n",
    "    )\n",
    "    \n",
    "for ct in ['A549', 'K562', 'MCF7']:\n",
    "    print(ct)\n",
    "    adata_ood = adata[adata.obs[f'split_{ct}'] == 'ood'].copy()\n",
    "    \n",
    "    for model in ['cpa', 'cpa_sample', 'scgen']:\n",
    "        df_emd[model][ct] = evaluate_emd(\n",
    "            adata_ood, \n",
    "            preds[model][ct], \n",
    "            condition_key='condition', \n",
    "            de_genes_dict=de_genes_dict[ct]\n",
    "        )"
   ]
  },
  {
   "cell_type": "code",
   "execution_count": null,
   "metadata": {},
   "outputs": [
    {
     "name": "stdout",
     "output_type": "stream",
     "text": [
      "A549\n",
      "cpa\n",
      "cpa_sample\n",
      "scgen\n",
      "K562\n",
      "cpa\n",
      "cpa_sample\n",
      "scgen\n",
      "MCF7\n",
      "cpa\n",
      "cpa_sample\n",
      "scgen\n"
     ]
    }
   ],
   "source": [
    "for ct in ['A549', 'K562', 'MCF7']:\n",
    "    print(ct)\n",
    "    adata_ood = adata[adata.obs[f'split_{ct}'] == 'ood'].copy()\n",
    "    \n",
    "    for model in ['cpa', 'cpa_sample', 'scgen']:\n",
    "        print(model)\n",
    "        df_mmd[model][ct] = evaluate_mmd(\n",
    "            adata_ood, \n",
    "            preds[model][ct], \n",
    "            condition_key='condition', \n",
    "            de_genes_dict=de_genes_dict[ct]\n",
    "        )"
   ]
  },
  {
   "cell_type": "code",
   "execution_count": null,
   "metadata": {},
   "outputs": [],
   "source": [
    "print(2)"
   ]
  },
  {
   "cell_type": "code",
   "execution_count": null,
   "metadata": {},
   "outputs": [],
   "source": [
    "df_emd.keys()"
   ]
  },
  {
   "cell_type": "code",
   "execution_count": 22,
   "metadata": {},
   "outputs": [],
   "source": [
    "emd_list = []\n",
    "for k1 in df_emd.keys():\n",
    "    for k2 in df_emd[k1].keys():\n",
    "        df_tmp = df_emd[k1][k2]\n",
    "        df_tmp = df_tmp.assign(model=k1)\n",
    "        df_tmp = df_tmp.assign(ct=k2)\n",
    "        emd_list.append(df_tmp)\n",
    "df_emd_full = pd.concat(emd_list)"
   ]
  },
  {
   "cell_type": "code",
   "execution_count": 12,
   "metadata": {},
   "outputs": [],
   "source": [
    "mmd_list = []\n",
    "for k1 in df_mmd.keys():\n",
    "    for k2 in df_mmd[k1].keys():\n",
    "        df_tmp = df_mmd[k1][k2]\n",
    "        df_tmp = df_tmp.assign(model=k1)\n",
    "        df_tmp = df_tmp.assign(ct=k2)\n",
    "        mmd_list.append(df_tmp)\n",
    "df_mmd_full = pd.concat(mmd_list)"
   ]
  },
  {
   "cell_type": "code",
   "execution_count": 23,
   "metadata": {},
   "outputs": [],
   "source": [
    "r2_list = []\n",
    "for k1 in df_r2.keys():\n",
    "    for k2 in df_r2[k1].keys():\n",
    "        df_tmp = df_r2[k1][k2]\n",
    "        df_tmp = df_tmp.assign(model=k1)\n",
    "        df_tmp = df_tmp.assign(ct=k2)\n",
    "        r2_list.append(df_tmp)\n",
    "df_r2_full = pd.concat(r2_list)"
   ]
  },
  {
   "cell_type": "code",
   "execution_count": 25,
   "metadata": {},
   "outputs": [],
   "source": [
    "df = pd.concat([df_r2_full, df_emd_full], axis=1)\n",
    "df = df.loc[:, ~df.columns.duplicated()]"
   ]
  },
  {
   "cell_type": "code",
   "execution_count": 26,
   "metadata": {},
   "outputs": [
    {
     "data": {
      "text/html": [
       "<div>\n",
       "<style scoped>\n",
       "    .dataframe tbody tr th:only-of-type {\n",
       "        vertical-align: middle;\n",
       "    }\n",
       "\n",
       "    .dataframe tbody tr th {\n",
       "        vertical-align: top;\n",
       "    }\n",
       "\n",
       "    .dataframe thead th {\n",
       "        text-align: right;\n",
       "    }\n",
       "</style>\n",
       "<table border=\"1\" class=\"dataframe\">\n",
       "  <thead>\n",
       "    <tr style=\"text-align: right;\">\n",
       "      <th></th>\n",
       "      <th>r2_mean</th>\n",
       "      <th>r2_var</th>\n",
       "      <th>r2_mean_deg</th>\n",
       "      <th>r2_var_deg</th>\n",
       "      <th>model</th>\n",
       "      <th>ct</th>\n",
       "      <th>emd</th>\n",
       "      <th>emd_deg</th>\n",
       "    </tr>\n",
       "    <tr>\n",
       "      <th>condition</th>\n",
       "      <th></th>\n",
       "      <th></th>\n",
       "      <th></th>\n",
       "      <th></th>\n",
       "      <th></th>\n",
       "      <th></th>\n",
       "      <th></th>\n",
       "      <th></th>\n",
       "    </tr>\n",
       "  </thead>\n",
       "  <tbody>\n",
       "    <tr>\n",
       "      <th>Enzastaurin</th>\n",
       "      <td>0.983241</td>\n",
       "      <td>-0.073817</td>\n",
       "      <td>0.997686</td>\n",
       "      <td>-0.499689</td>\n",
       "      <td>cpa</td>\n",
       "      <td>A549</td>\n",
       "      <td>0.030637</td>\n",
       "      <td>0.145747</td>\n",
       "    </tr>\n",
       "    <tr>\n",
       "      <th>Luminespib</th>\n",
       "      <td>0.982585</td>\n",
       "      <td>-0.069466</td>\n",
       "      <td>0.991955</td>\n",
       "      <td>-0.473856</td>\n",
       "      <td>cpa</td>\n",
       "      <td>A549</td>\n",
       "      <td>0.030220</td>\n",
       "      <td>0.179701</td>\n",
       "    </tr>\n",
       "    <tr>\n",
       "      <th>Fulvestrant</th>\n",
       "      <td>0.970730</td>\n",
       "      <td>-0.069569</td>\n",
       "      <td>0.989096</td>\n",
       "      <td>-0.199195</td>\n",
       "      <td>cpa</td>\n",
       "      <td>A549</td>\n",
       "      <td>0.033765</td>\n",
       "      <td>0.110690</td>\n",
       "    </tr>\n",
       "    <tr>\n",
       "      <th>Mesna</th>\n",
       "      <td>0.981084</td>\n",
       "      <td>-0.069516</td>\n",
       "      <td>0.994812</td>\n",
       "      <td>-0.132000</td>\n",
       "      <td>cpa</td>\n",
       "      <td>A549</td>\n",
       "      <td>0.030761</td>\n",
       "      <td>0.069715</td>\n",
       "    </tr>\n",
       "    <tr>\n",
       "      <th>Cediranib</th>\n",
       "      <td>0.979185</td>\n",
       "      <td>-0.071417</td>\n",
       "      <td>0.983027</td>\n",
       "      <td>-0.343902</td>\n",
       "      <td>cpa</td>\n",
       "      <td>A549</td>\n",
       "      <td>0.030818</td>\n",
       "      <td>0.149484</td>\n",
       "    </tr>\n",
       "    <tr>\n",
       "      <th>...</th>\n",
       "      <td>...</td>\n",
       "      <td>...</td>\n",
       "      <td>...</td>\n",
       "      <td>...</td>\n",
       "      <td>...</td>\n",
       "      <td>...</td>\n",
       "      <td>...</td>\n",
       "      <td>...</td>\n",
       "    </tr>\n",
       "    <tr>\n",
       "      <th>Enzastaurin</th>\n",
       "      <td>0.979227</td>\n",
       "      <td>0.662767</td>\n",
       "      <td>0.977606</td>\n",
       "      <td>0.883771</td>\n",
       "      <td>scgen</td>\n",
       "      <td>MCF7</td>\n",
       "      <td>0.013174</td>\n",
       "      <td>0.051457</td>\n",
       "    </tr>\n",
       "    <tr>\n",
       "      <th>Fasudil</th>\n",
       "      <td>0.970699</td>\n",
       "      <td>0.610542</td>\n",
       "      <td>0.990123</td>\n",
       "      <td>0.763755</td>\n",
       "      <td>scgen</td>\n",
       "      <td>MCF7</td>\n",
       "      <td>0.015226</td>\n",
       "      <td>0.037834</td>\n",
       "    </tr>\n",
       "    <tr>\n",
       "      <th>Luminespib</th>\n",
       "      <td>0.949463</td>\n",
       "      <td>0.602847</td>\n",
       "      <td>0.943490</td>\n",
       "      <td>0.582075</td>\n",
       "      <td>scgen</td>\n",
       "      <td>MCF7</td>\n",
       "      <td>0.013418</td>\n",
       "      <td>0.169195</td>\n",
       "    </tr>\n",
       "    <tr>\n",
       "      <th>Mesna</th>\n",
       "      <td>0.974767</td>\n",
       "      <td>0.648986</td>\n",
       "      <td>0.973933</td>\n",
       "      <td>0.807084</td>\n",
       "      <td>scgen</td>\n",
       "      <td>MCF7</td>\n",
       "      <td>0.013864</td>\n",
       "      <td>0.064400</td>\n",
       "    </tr>\n",
       "    <tr>\n",
       "      <th>Obatoclax</th>\n",
       "      <td>0.973400</td>\n",
       "      <td>0.676961</td>\n",
       "      <td>0.956963</td>\n",
       "      <td>0.743842</td>\n",
       "      <td>scgen</td>\n",
       "      <td>MCF7</td>\n",
       "      <td>0.013636</td>\n",
       "      <td>0.092766</td>\n",
       "    </tr>\n",
       "  </tbody>\n",
       "</table>\n",
       "<p>162 rows × 8 columns</p>\n",
       "</div>"
      ],
      "text/plain": [
       "              r2_mean    r2_var  r2_mean_deg  r2_var_deg  model    ct  \\\n",
       "condition                                                               \n",
       "Enzastaurin  0.983241 -0.073817     0.997686   -0.499689    cpa  A549   \n",
       "Luminespib   0.982585 -0.069466     0.991955   -0.473856    cpa  A549   \n",
       "Fulvestrant  0.970730 -0.069569     0.989096   -0.199195    cpa  A549   \n",
       "Mesna        0.981084 -0.069516     0.994812   -0.132000    cpa  A549   \n",
       "Cediranib    0.979185 -0.071417     0.983027   -0.343902    cpa  A549   \n",
       "...               ...       ...          ...         ...    ...   ...   \n",
       "Enzastaurin  0.979227  0.662767     0.977606    0.883771  scgen  MCF7   \n",
       "Fasudil      0.970699  0.610542     0.990123    0.763755  scgen  MCF7   \n",
       "Luminespib   0.949463  0.602847     0.943490    0.582075  scgen  MCF7   \n",
       "Mesna        0.974767  0.648986     0.973933    0.807084  scgen  MCF7   \n",
       "Obatoclax    0.973400  0.676961     0.956963    0.743842  scgen  MCF7   \n",
       "\n",
       "                  emd   emd_deg  \n",
       "condition                        \n",
       "Enzastaurin  0.030637  0.145747  \n",
       "Luminespib   0.030220  0.179701  \n",
       "Fulvestrant  0.033765  0.110690  \n",
       "Mesna        0.030761  0.069715  \n",
       "Cediranib    0.030818  0.149484  \n",
       "...               ...       ...  \n",
       "Enzastaurin  0.013174  0.051457  \n",
       "Fasudil      0.015226  0.037834  \n",
       "Luminespib   0.013418  0.169195  \n",
       "Mesna        0.013864  0.064400  \n",
       "Obatoclax    0.013636  0.092766  \n",
       "\n",
       "[162 rows x 8 columns]"
      ]
     },
     "execution_count": 26,
     "metadata": {},
     "output_type": "execute_result"
    }
   ],
   "source": [
    "df\n"
   ]
  },
  {
   "cell_type": "code",
   "execution_count": 27,
   "metadata": {},
   "outputs": [],
   "source": [
    "df.to_csv('scgen_results_full.csv')"
   ]
  },
  {
   "cell_type": "code",
   "execution_count": 36,
   "metadata": {},
   "outputs": [],
   "source": [
    "df_full = pd.melt(df, id_vars=['model', 'ct'])\n",
    "df_full = df_full[df_full['model'].isin(['cpa_sample', 'scgen'])]\n",
    "df_full['model'][df_full['model'].str.contains('cpa')] = 'cpa'"
   ]
  },
  {
   "cell_type": "code",
   "execution_count": 37,
   "metadata": {},
   "outputs": [
    {
     "data": {
      "text/plain": [
       "Text(0.5, 0.98, 'OOD prediction performance')"
      ]
     },
     "execution_count": 37,
     "metadata": {},
     "output_type": "execute_result"
    },
    {
     "data": {
      "image/png": "[encoded data removed]",
      "text/plain": [
       "<Figure size 576x288 with 2 Axes>"
      ]
     },
     "metadata": {
      "needs_background": "light"
     },
     "output_type": "display_data"
    }
   ],
   "source": [
    "fig, ax = plt.subplots(1, 2, figsize=(8, 4))\n",
    "df_plot = df_full[df_full['variable'].str.contains('mean')]\n",
    "sns.boxplot(x='variable', y='value', hue='model', data=df_plot, ax=ax[0])\n",
    "ax[0].set_xlabel('')\n",
    "ax[0].set_xticklabels(['R2 mean', 'R2 mean (DEG)'])\n",
    "                    \n",
    "df_plot = df_full[df_full['variable'].str.contains('var')]\n",
    "sns.boxplot(x='variable', y='value', hue='model', data=df_plot, ax=ax[1])\n",
    "ax[1].set_xlabel('')\n",
    "ax[1].set_xticklabels(['R2 var', 'R2 var (DEG)'])\n",
    "sns.despine()\n",
    "plt.suptitle('OOD prediction performance')\n",
    "#plt.savefig('../figures/scgen_comparison.png', dpi=600, bbox_inches='tight')"
   ]
  },
  {
   "cell_type": "code",
   "execution_count": 38,
   "metadata": {},
   "outputs": [
    {
     "data": {
      "image/png": "[encoded data removed]",
      "text/plain": [
       "<Figure size 864x288 with 3 Axes>"
      ]
     },
     "metadata": {
      "needs_background": "light"
     },
     "output_type": "display_data"
    }
   ],
   "source": [
    "fig, ax = plt.subplots(1, 3, figsize=(12, 4))\n",
    "df_plot = df_full[df_full['variable'].str.contains('mean')]\n",
    "sns.boxplot(x='variable', y='value', hue='model', data=df_plot, ax=ax[0], showfliers=False)\n",
    "ax[0].set_xlabel('')\n",
    "ax[0].set_xticklabels(['R2 mean', 'R2 mean (DEG)'])\n",
    "                    \n",
    "df_plot = df_full[df_full['variable'].str.contains('var')]\n",
    "sns.boxplot(x='variable', y='value', hue='model', data=df_plot, ax=ax[1], showfliers=False)\n",
    "ax[1].set_xlabel('')\n",
    "ax[1].set_xticklabels(['R2 var', 'R2 var (DEG)'])\n",
    "ax[1].get_legend().remove()\n",
    "\n",
    "df_plot = df_full[df_full['variable'].str.contains('emd')]\n",
    "sns.boxplot(x='variable', y='value', hue='model', data=df_plot, ax=ax[2], showfliers=False)\n",
    "ax[2].set_xlabel('')\n",
    "ax[2].set_xticklabels(['EMD', 'EMD (DEG)'])\n",
    "ax[2].get_legend().remove()\n",
    "sns.despine()\n",
    "plt.suptitle('OOD prediction performance')\n",
    "plt.savefig('../figures/scgen_comparison_emd.png', dpi=600, bbox_inches='tight')"
   ]
  },
  {
   "cell_type": "code",
   "execution_count": 39,
   "metadata": {},
   "outputs": [
    {
     "data": {
      "text/html": [
       "<div>\n",
       "<style scoped>\n",
       "    .dataframe tbody tr th:only-of-type {\n",
       "        vertical-align: middle;\n",
       "    }\n",
       "\n",
       "    .dataframe tbody tr th {\n",
       "        vertical-align: top;\n",
       "    }\n",
       "\n",
       "    .dataframe thead th {\n",
       "        text-align: right;\n",
       "    }\n",
       "</style>\n",
       "<table border=\"1\" class=\"dataframe\">\n",
       "  <thead>\n",
       "    <tr style=\"text-align: right;\">\n",
       "      <th></th>\n",
       "      <th></th>\n",
       "      <th>value</th>\n",
       "    </tr>\n",
       "    <tr>\n",
       "      <th>variable</th>\n",
       "      <th>model</th>\n",
       "      <th></th>\n",
       "    </tr>\n",
       "  </thead>\n",
       "  <tbody>\n",
       "    <tr>\n",
       "      <th rowspan=\"2\" valign=\"top\">r2_mean</th>\n",
       "      <th>cpa</th>\n",
       "      <td>0.982852</td>\n",
       "    </tr>\n",
       "    <tr>\n",
       "      <th>scgen</th>\n",
       "      <td>0.968109</td>\n",
       "    </tr>\n",
       "    <tr>\n",
       "      <th rowspan=\"2\" valign=\"top\">r2_mean_deg</th>\n",
       "      <th>cpa</th>\n",
       "      <td>0.982011</td>\n",
       "    </tr>\n",
       "    <tr>\n",
       "      <th>scgen</th>\n",
       "      <td>0.960580</td>\n",
       "    </tr>\n",
       "  </tbody>\n",
       "</table>\n",
       "</div>"
      ],
      "text/plain": [
       "                      value\n",
       "variable    model          \n",
       "r2_mean     cpa    0.982852\n",
       "            scgen  0.968109\n",
       "r2_mean_deg cpa    0.982011\n",
       "            scgen  0.960580"
      ]
     },
     "execution_count": 39,
     "metadata": {},
     "output_type": "execute_result"
    }
   ],
   "source": [
    "df_full[df_full['variable'].str.contains('mean')].groupby(['variable','model']).median()"
   ]
  },
  {
   "cell_type": "code",
   "execution_count": 40,
   "metadata": {},
   "outputs": [
    {
     "data": {
      "text/html": [
       "<div>\n",
       "<style scoped>\n",
       "    .dataframe tbody tr th:only-of-type {\n",
       "        vertical-align: middle;\n",
       "    }\n",
       "\n",
       "    .dataframe tbody tr th {\n",
       "        vertical-align: top;\n",
       "    }\n",
       "\n",
       "    .dataframe thead th {\n",
       "        text-align: right;\n",
       "    }\n",
       "</style>\n",
       "<table border=\"1\" class=\"dataframe\">\n",
       "  <thead>\n",
       "    <tr style=\"text-align: right;\">\n",
       "      <th></th>\n",
       "      <th></th>\n",
       "      <th>value</th>\n",
       "    </tr>\n",
       "    <tr>\n",
       "      <th>variable</th>\n",
       "      <th>model</th>\n",
       "      <th></th>\n",
       "    </tr>\n",
       "  </thead>\n",
       "  <tbody>\n",
       "    <tr>\n",
       "      <th rowspan=\"2\" valign=\"top\">r2_var</th>\n",
       "      <th>cpa</th>\n",
       "      <td>0.468978</td>\n",
       "    </tr>\n",
       "    <tr>\n",
       "      <th>scgen</th>\n",
       "      <td>0.345195</td>\n",
       "    </tr>\n",
       "    <tr>\n",
       "      <th rowspan=\"2\" valign=\"top\">r2_var_deg</th>\n",
       "      <th>cpa</th>\n",
       "      <td>0.556863</td>\n",
       "    </tr>\n",
       "    <tr>\n",
       "      <th>scgen</th>\n",
       "      <td>0.484003</td>\n",
       "    </tr>\n",
       "  </tbody>\n",
       "</table>\n",
       "</div>"
      ],
      "text/plain": [
       "                     value\n",
       "variable   model          \n",
       "r2_var     cpa    0.468978\n",
       "           scgen  0.345195\n",
       "r2_var_deg cpa    0.556863\n",
       "           scgen  0.484003"
      ]
     },
     "execution_count": 40,
     "metadata": {},
     "output_type": "execute_result"
    }
   ],
   "source": [
    "df_full[df_full['variable'].str.contains('var')].groupby(['variable','model']).median()"
   ]
  },
  {
   "cell_type": "code",
   "execution_count": 41,
   "metadata": {},
   "outputs": [
    {
     "data": {
      "text/html": [
       "<div>\n",
       "<style scoped>\n",
       "    .dataframe tbody tr th:only-of-type {\n",
       "        vertical-align: middle;\n",
       "    }\n",
       "\n",
       "    .dataframe tbody tr th {\n",
       "        vertical-align: top;\n",
       "    }\n",
       "\n",
       "    .dataframe thead th {\n",
       "        text-align: right;\n",
       "    }\n",
       "</style>\n",
       "<table border=\"1\" class=\"dataframe\">\n",
       "  <thead>\n",
       "    <tr style=\"text-align: right;\">\n",
       "      <th></th>\n",
       "      <th></th>\n",
       "      <th>value</th>\n",
       "    </tr>\n",
       "    <tr>\n",
       "      <th>variable</th>\n",
       "      <th>model</th>\n",
       "      <th></th>\n",
       "    </tr>\n",
       "  </thead>\n",
       "  <tbody>\n",
       "    <tr>\n",
       "      <th rowspan=\"2\" valign=\"top\">emd</th>\n",
       "      <th>cpa</th>\n",
       "      <td>0.020881</td>\n",
       "    </tr>\n",
       "    <tr>\n",
       "      <th>scgen</th>\n",
       "      <td>0.023534</td>\n",
       "    </tr>\n",
       "    <tr>\n",
       "      <th rowspan=\"2\" valign=\"top\">emd_deg</th>\n",
       "      <th>cpa</th>\n",
       "      <td>0.068446</td>\n",
       "    </tr>\n",
       "    <tr>\n",
       "      <th>scgen</th>\n",
       "      <td>0.078964</td>\n",
       "    </tr>\n",
       "  </tbody>\n",
       "</table>\n",
       "</div>"
      ],
      "text/plain": [
       "                   value\n",
       "variable model          \n",
       "emd      cpa    0.020881\n",
       "         scgen  0.023534\n",
       "emd_deg  cpa    0.068446\n",
       "         scgen  0.078964"
      ]
     },
     "execution_count": 41,
     "metadata": {},
     "output_type": "execute_result"
    }
   ],
   "source": [
    "df_full[df_full['variable'].str.contains('emd')].groupby(['variable','model']).median()"
   ]
  },
  {
   "cell_type": "code",
   "execution_count": 43,
   "metadata": {},
   "outputs": [
    {
     "data": {
      "text/plain": [
       "1.5228657103693852"
      ]
     },
     "execution_count": 43,
     "metadata": {},
     "output_type": "execute_result"
    }
   ],
   "source": [
    "((0.982852-0.968109) / 0.968109) * 100"
   ]
  },
  {
   "cell_type": "code",
   "execution_count": 44,
   "metadata": {},
   "outputs": [
    {
     "data": {
      "text/plain": [
       "35.85875850241603"
      ]
     },
     "execution_count": 44,
     "metadata": {},
     "output_type": "execute_result"
    }
   ],
   "source": [
    "((0.468978-0.345195) / 0.345196) * 100"
   ]
  },
  {
   "cell_type": "code",
   "execution_count": 42,
   "metadata": {},
   "outputs": [
    {
     "data": {
      "text/plain": [
       "-11.311792746467459"
      ]
     },
     "execution_count": 42,
     "metadata": {},
     "output_type": "execute_result"
    }
   ],
   "source": [
    "((0.020881-0.023534) / 0.0234534) * 100"
   ]
  },
  {
   "cell_type": "code",
   "execution_count": null,
   "metadata": {},
   "outputs": [],
   "source": []
  }
 ],
 "metadata": {
  "kernelspec": {
   "display_name": "Python 3",
   "language": "python",
   "name": "python3"
  },
  "language_info": {
   "codemirror_mode": {
    "name": "ipython",
    "version": 3
   },
   "file_extension": ".py",
   "mimetype": "text/x-python",
   "name": "python",
   "nbconvert_exporter": "python",
   "pygments_lexer": "ipython3",
   "version": "3.8.0"
  }
 },
 "nbformat": 4,
 "nbformat_minor": 4
}
