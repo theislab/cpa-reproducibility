{
 "cells": [
  {
   "cell_type": "code",
   "execution_count": 1,
   "metadata": {},
   "outputs": [],
   "source": [
    "%load_ext autoreload\n",
    "%autoreload 2"
   ]
  },
  {
   "cell_type": "code",
   "execution_count": 2,
   "metadata": {},
   "outputs": [
    {
     "name": "stdout",
     "output_type": "stream",
     "text": [
      "/mnt/znas/icb_zstore01/groups/ml01/workspace/ignacio.ibarra/theislab/cpa-reproducibility/notebooks/figure4\n"
     ]
    }
   ],
   "source": [
    "!readlink -f ."
   ]
  },
  {
   "cell_type": "code",
   "execution_count": 3,
   "metadata": {},
   "outputs": [],
   "source": [
    "import multiprocessing\n",
    "from multiprocessing import Process\n",
    "from multiprocessing import Manager\n",
    "import threading\n",
    "from threading import Thread\n",
    "import utils"
   ]
  },
  {
   "cell_type": "markdown",
   "metadata": {},
   "source": [
    "### This mimics the approach by Norman et al to obtain coefficients, given data"
   ]
  },
  {
   "cell_type": "markdown",
   "metadata": {},
   "source": [
    "### Load new data"
   ]
  },
  {
   "cell_type": "code",
   "execution_count": 4,
   "metadata": {},
   "outputs": [
    {
     "name": "stdout",
     "output_type": "stream",
     "text": [
      "True /storage/groups/ml01/workspace/mo/for_nacho/Norman2019_prep_new.h5ad\n",
      "True /storage/groups/ml01/workspace/carlo.dedonno/cpa-reproducibility/fig4_predicted_adata.h5ad\n"
     ]
    },
    {
     "name": "stderr",
     "output_type": "stream",
     "text": [
      "Observation names are not unique. To make them unique, call `.obs_names_make_unique`.\n",
      "Observation names are not unique. To make them unique, call `.obs_names_make_unique`.\n",
      "Observation names are not unique. To make them unique, call `.obs_names_make_unique`.\n"
     ]
    },
    {
     "name": "stdout",
     "output_type": "stream",
     "text": [
      "True /storage/groups/ml01/workspace/carlo.dedonno/cpa-reproducibility/figure4_latent_adata.h5ad\n",
      "\n",
      "dimensions of embedding: (497800, 64)\n",
      "all good. Removing datasets based on repetition is then tractable\n"
     ]
    },
    {
     "name": "stderr",
     "output_type": "stream",
     "text": [
      "/mnt/znas/icb_zstore01/groups/ml01/workspace/ignacio.ibarra/theislab/cpa-reproducibility/notebooks/figure4/utils.py:202: PerformanceWarning: DataFrame is highly fragmented.  This is usually the result of calling `frame.insert` many times, which has poor performance.  Consider joining all columns at once using pd.concat(axis=1) instead.  To get a de-fragmented frame, use `newframe = frame.copy()`\n",
      "  means.obs['is.%s' % gene_name] = ((means.obs['a'] == gene_name) | (means.obs['b'] == gene_name)).astype(int)\n"
     ]
    }
   ],
   "source": [
    "means = utils.get_means()"
   ]
  },
  {
   "cell_type": "code",
   "execution_count": 42,
   "metadata": {},
   "outputs": [
    {
     "name": "stdout",
     "output_type": "stream",
     "text": [
      "(5262, 5000)\n"
     ]
    }
   ],
   "source": [
    "print(means.shape)"
   ]
  },
  {
   "cell_type": "code",
   "execution_count": 6,
   "metadata": {},
   "outputs": [],
   "source": [
    "import multiprocessing\n",
    "from os.path import exists\n",
    "import warnings\n",
    "from itertools import combinations\n",
    "warnings.filterwarnings(\"ignore\")\n",
    "means.obs['condition'] = means.obs.index"
   ]
  },
  {
   "cell_type": "code",
   "execution_count": 24,
   "metadata": {},
   "outputs": [
    {
     "data": {
      "text/html": [
       "<div>\n",
       "<style scoped>\n",
       "    .dataframe tbody tr th:only-of-type {\n",
       "        vertical-align: middle;\n",
       "    }\n",
       "\n",
       "    .dataframe tbody tr th {\n",
       "        vertical-align: top;\n",
       "    }\n",
       "\n",
       "    .dataframe thead th {\n",
       "        text-align: right;\n",
       "    }\n",
       "</style>\n",
       "<table border=\"1\" class=\"dataframe\">\n",
       "  <thead>\n",
       "    <tr style=\"text-align: right;\">\n",
       "      <th></th>\n",
       "    </tr>\n",
       "    <tr>\n",
       "      <th>index</th>\n",
       "    </tr>\n",
       "  </thead>\n",
       "  <tbody>\n",
       "    <tr>\n",
       "      <th>RP11-34P13.8</th>\n",
       "    </tr>\n",
       "    <tr>\n",
       "      <th>RP11-54O7.3</th>\n",
       "    </tr>\n",
       "    <tr>\n",
       "      <th>SAMD11</th>\n",
       "    </tr>\n",
       "    <tr>\n",
       "      <th>PLEKHN1</th>\n",
       "    </tr>\n",
       "    <tr>\n",
       "      <th>HES4</th>\n",
       "    </tr>\n",
       "    <tr>\n",
       "      <th>...</th>\n",
       "    </tr>\n",
       "    <tr>\n",
       "      <th>MT-ND4L</th>\n",
       "    </tr>\n",
       "    <tr>\n",
       "      <th>MT-ND4</th>\n",
       "    </tr>\n",
       "    <tr>\n",
       "      <th>MT-ND6</th>\n",
       "    </tr>\n",
       "    <tr>\n",
       "      <th>MT-CYB</th>\n",
       "    </tr>\n",
       "    <tr>\n",
       "      <th>AC023491.2</th>\n",
       "    </tr>\n",
       "  </tbody>\n",
       "</table>\n",
       "<p>5000 rows × 0 columns</p>\n",
       "</div>"
      ],
      "text/plain": [
       "Empty DataFrame\n",
       "Columns: []\n",
       "Index: [RP11-34P13.8, RP11-54O7.3, SAMD11, PLEKHN1, HES4, ISG15, RP11-54O7.18, RNF223, LINC01342, TTLL10-AS1, TNFRSF18, TNFRSF4, ANKRD65, MMP23B, RP11-345P4.7, RP5-892K4.1, RP11-181G12.4, PLCH2, RP3-395M20.8, TNFRSF14, TTC34, RP11-168F9.2, RP11-46F15.2, SMIM1, RP1-286D6.5, CHD5, LINC00337, HES2, ESPN, RP11-338N10.1, TNFRSF9, RP11-431K24.1, RP5-1115A15.1, ENO1, CA6, GPR157, H6PD, PIK3CD-AS1, AL357140.1, PGD, C1orf127, RP4-635E18.9, MASP2, RP4-635E18.8, SRM, DRAXIN, MTHFR, PDPN, RP3-467K16.2, RP3-467K16.4, CELA2A, CELA2B, RP11-288I21.1, TMEM82, C1orf64, RP11-276H7.3, RP4-798A10.7, MFAP2, AC004824.2, RP1-43E13.2, PLA2G2A, PLA2G2D, PLA2G2C, CDA, HP1BP3, RP3-329E20.2, CELA3A, CDC42, WNT4, C1QB, ZNF436-AS1, RP1-150O5.3, ID3, MDS2, HMGCL, FUCA1, CNR2, IL22RA1, RP11-10N16.2, RUNX3, RP4-799D16.1, RP4-706G24.1, SYF2, RSRP1, MAN1C1, RP1-187B23.1, PAQR7, STMN1, EXTL1, TRIM63, SH3BGRL3, CD52, LIN28A, RP3-476K8.3, HMGN2, RP1-50O24.6, NUDC, SYTL1, FGR, IFI6, ...]\n",
       "\n",
       "[5000 rows x 0 columns]"
      ]
     },
     "execution_count": 24,
     "metadata": {},
     "output_type": "execute_result"
    }
   ],
   "source": [
    "means.var"
   ]
  },
  {
   "cell_type": "code",
   "execution_count": 35,
   "metadata": {},
   "outputs": [],
   "source": [
    "\n",
    "from sklearn.linear_model import LinearRegression, TheilSenRegressor\n",
    "import statsmodels.api as sm\n",
    "from dcor import distance_correlation, partial_distance_correlation\n",
    "return_dict = {}\n",
    "def get_parms(means, a, b, ci):\n",
    "    if ci % 50 == 0:\n",
    "        print(ci)\n",
    "    try:\n",
    "        va = means[means.obs['condition'].isin({'%s+ctrl' % a, 'ctrl+%s' % a}),:].to_df().mean()\n",
    "        vb = means[means.obs['condition'].isin({'%s+ctrl' % b, 'ctrl+%s' % b}),:].to_df().mean()\n",
    "        vab = means[means.obs['condition'].isin({'%s+%s' % (a, b), '%s+%s' % (b, a)}),:].to_df().mean()\n",
    "\n",
    "        \n",
    "        ref = means[~means.obs.index.str.contains('\\+')].to_df().mean()\n",
    "\n",
    "        da = va - ref\n",
    "        db = vb - ref\n",
    "        dab = vab - ref\n",
    "        \n",
    "        # print(a, b)\n",
    "        # print(va.shape, vb.shape)\n",
    "\n",
    "        x = pd.DataFrame()\n",
    "        x['da'] = da\n",
    "        x['db'] = db\n",
    "        x = np.array(x)\n",
    "        y = np.array(dab)\n",
    "\n",
    "        regr = LinearRegression(fit_intercept=False)\n",
    "\n",
    "        # print(x.shape, y.shape)\n",
    "        regr.fit(x, y)\n",
    "        y_pred = regr.predict(x)\n",
    "        # rlm = sm.RLM(y.ravel(), x, M=sm.robust.norms.TukeyBiweight()).fit()\n",
    "        # print('rlm fitting...')\n",
    "\n",
    "        c1 = regr.coef_[0]\n",
    "        c2 = regr.coef_[1]\n",
    "        lin_model_fit = distance_correlation(y_pred, y)\n",
    "        dominance = np.abs(np.log10(c1 / c2))\n",
    "        magnitude = (c1 ** 2 + c2 ** 2) ** .5\n",
    "        single_double_sim = distance_correlation(x, y)\n",
    "        single_sim = distance_correlation(da, db)\n",
    "\n",
    "        eq_contrib = min(distance_correlation(da, dab), distance_correlation(db, dab)) / max(distance_correlation(da, dab), distance_correlation(db, dab))\n",
    "        res = pd.DataFrame([[a, b, c1, c2, lin_model_fit, dominance, magnitude,\n",
    "                             single_double_sim, single_sim, eq_contrib]])\n",
    "        res.columns = ['a', 'b', 'c1', 'c2', 'lin_model_fit', 'dominance',\n",
    "                       'magnitude', 'single_double_sim', 'single_sim', 'eq_contrib']\n",
    "        return_dict[ci] = res\n",
    "    except ValueError as err:\n",
    "        print('Something failed while running query id %i' % ci)\n",
    "        print(err)"
   ]
  },
  {
   "cell_type": "code",
   "execution_count": null,
   "metadata": {},
   "outputs": [],
   "source": [
    "from ThreadingUtils import ThreadingUtils\n",
    "import pandas as pd\n",
    "import numpy as np\n",
    "bkp_path = '../../data/fitting_coefs_rf_path.tsv.gz'\n",
    "\n",
    "queries = list(combinations(set(means.obs[['a', 'b']].values.flatten()), r=2))\n",
    "# len(queries)\n",
    "queries = [[a, b] for a, b in queries if str(a) != 'nan' and str(b) != 'nan']\n",
    "# queries = [[a, b] for a, b in queries if a == 'KLF1' or b == 'KLF1']\n",
    "len(queries)\n",
    "\n",
    "if True or not exists(bkp_path):\n",
    "    n = 0\n",
    "    manager = multiprocessing.Manager()\n",
    "    return_dict = manager.dict()\n",
    "    queries2 = []\n",
    "    for a, b in queries:\n",
    "        if str(a) == 'ctrl' or str(b) == 'ctrl':\n",
    "            continue\n",
    "        queries2.append([a, b, n])\n",
    "        n += 1\n",
    "        \n",
    "    queries = queries2\n",
    "    # queries = queries[:1]\n",
    "    print('# total queries', len(queries))    \n",
    "    ThreadingUtils.run(get_parms, [[means] + list(t) for t in queries], n_cores=5)\n",
    "    res = pd.concat([return_dict[k] for k in return_dict.keys()])\n",
    "    res.to_csv(bkp_path, compression='gzip')\n",
    "    \n",
    "res = pd.read_csv(bkp_path, compression='gzip')"
   ]
  }
 ],
 "metadata": {
  "kernelspec": {
   "display_name": "Python [conda env:cpa]",
   "language": "python",
   "name": "conda-env-cpa-py"
  },
  "language_info": {
   "codemirror_mode": {
    "name": "ipython",
    "version": 3
   },
   "file_extension": ".py",
   "mimetype": "text/x-python",
   "name": "python",
   "nbconvert_exporter": "python",
   "pygments_lexer": "ipython3",
   "version": "3.9.0"
  }
 },
 "nbformat": 4,
 "nbformat_minor": 4
}
